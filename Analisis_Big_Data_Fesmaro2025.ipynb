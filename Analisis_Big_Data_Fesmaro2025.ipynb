{
  "cells": [
    {
      "cell_type": "markdown",
      "metadata": {
        "id": "CmLcRyfuhnmE"
      },
      "source": [
        "# Analisis Sentimen Ulasan Produk Amazon Berbasis Deep Learning"
      ]
    },
    {
      "cell_type": "markdown",
      "metadata": {
        "id": "7ZFYdHNZhnmF"
      },
      "source": [
        "Analisis sentimen ulasan produk Amazon ini merupakan studi kasus yang dikerjakan dalam rangka Lomba FESMARO 2025, yang diselenggarakan oleh Himpunan Mahasiswa Departemen Teknik Elektro dan Informatika (HMDTEI), Universitas Negeri Malang. Proyek ini dikerjakan dalam rentang waktu 17-22 Maret 2025."
      ]
    },
    {
      "cell_type": "markdown",
      "metadata": {
        "id": "7UVxmWj6hnmG"
      },
      "source": [
        "## Anggota Tim hpcUG_inBD\n",
        "\n",
        "Tim hpcUG_inBD adalah kelompok mahasiswa Universitas Gunadarma, yang terdiri dari:\n",
        "1. Muhammad Faqih Hakim (51422032)\n",
        "2.  Danu Tirta (10123295)\n",
        "3.  Nazwa Akilla Zahra (51422237)"
      ]
    },
    {
      "cell_type": "markdown",
      "metadata": {
        "id": "mB_ewKpMhnmG"
      },
      "source": [
        "## Informasi Dataset  \n",
        "\n",
        "Dataset ini berisi lebih dari 34 juta ulasan produk Amazon yang diklasifikasikan ke dalam dua kategori sentimen: positif dan negatif. Ulasan dalam dataset mencakup berbagai produk selama 18 tahun dan dapat digunakan untuk analisis sentimen berbasis Machine Learning.\n",
        "\n",
        "Setiap entri dalam dataset terdiri dari judul ulasan, isi ulasan, serta label sentimen berupa nilai polaritas, dengan ketentuan sebagai berikut:\n",
        "- Nilai 1: Sentimen negatif (rating 1 dan 2)\n",
        "- Nilai 2: Sentimen positif (rating 4 dan 5)"
      ]
    },
    {
      "cell_type": "markdown",
      "metadata": {
        "id": "9y2FQu4R5BUn"
      },
      "source": [
        "## Tahapan Analisis Sentimen\n",
        "\n",
        "Analisis sentimen dilakukan berdasarkan tahapan dalam metode Cross-Industry Process for Data Mining (CRISP-DM), yang mencakup 6 langkah utama:\n",
        "1. Business Understanding\n",
        "2. Data Understanding\n",
        "3. Data Preparation\n",
        "4. Modeling\n",
        "5. Evaluation\n",
        "6. Deployment"
      ]
    },
    {
      "cell_type": "markdown",
      "metadata": {
        "id": "lj-Xf__ohnmH"
      },
      "source": [
        "## Tahap 1: Business Understanding\n",
        "\n",
        "Tahap Business Understanding dilakukan untuk memahami tujuan bisnis serta permasalahan yang ingin diselesaikan melalui analisis sentimen. Pada tahap ini, dilakukan identifikasi kebutuhan pengguna, manfaat yang diharapkan, serta cara pemanfaatan hasil analisis untuk mendukung pengambilan keputusan.\n",
        "\n",
        "Dataset yang digunakan terdiri dari ulasan produk pada Amazon Reviews, yang diklasifikasikan ke dalam dua kategori sentimen:\n",
        "- Negatif (Rating 1 dan 2)\n",
        "- Positif (Rating 4 dan 5)\n",
        "\n",
        "Tujuan dari proyek dalam lomba ini adalah membangun model Machine Learning yang mampu melakukan analisis sentimen secara akurat berdasarkan ulasan pengguna."
      ]
    },
    {
      "cell_type": "markdown",
      "metadata": {
        "id": "3Hg_bQgyhnmI"
      },
      "source": [
        "### Instalasi library yang dibutuhkan"
      ]
    },
    {
      "cell_type": "code",
      "execution_count": null,
      "metadata": {
        "id": "HKjVgDuehnmI",
        "outputId": "8001a653-0cd3-496a-c2ec-02e848ff5ade"
      },
      "outputs": [
        {
          "name": "stdout",
          "output_type": "stream",
          "text": [
            "Defaulting to user installation because normal site-packages is not writeable\n",
            "Requirement already satisfied: gdown in ./.local/lib/python3.6/site-packages (4.7.3)\n",
            "Requirement already satisfied: six in /usr/local/lib/python3.6/dist-packages (from gdown) (1.15.0)\n",
            "Requirement already satisfied: filelock in ./.local/lib/python3.6/site-packages (from gdown) (3.4.1)\n",
            "Requirement already satisfied: requests[socks] in /usr/local/lib/python3.6/dist-packages (from gdown) (2.23.0)\n",
            "Requirement already satisfied: tqdm in /usr/local/lib/python3.6/dist-packages (from gdown) (4.46.1)\n",
            "Requirement already satisfied: beautifulsoup4 in ./.local/lib/python3.6/site-packages (from gdown) (4.12.3)\n",
            "Requirement already satisfied: soupsieve>1.2 in ./.local/lib/python3.6/site-packages (from beautifulsoup4->gdown) (2.3.2.post1)\n",
            "Requirement already satisfied: certifi>=2017.4.17 in /usr/local/lib/python3.6/dist-packages (from requests[socks]->gdown) (2020.4.5.2)\n",
            "Requirement already satisfied: idna<3,>=2.5 in /usr/local/lib/python3.6/dist-packages (from requests[socks]->gdown) (2.9)\n",
            "Requirement already satisfied: urllib3!=1.25.0,!=1.25.1,<1.26,>=1.21.1 in /usr/local/lib/python3.6/dist-packages (from requests[socks]->gdown) (1.25.9)\n",
            "Requirement already satisfied: chardet<4,>=3.0.2 in /usr/local/lib/python3.6/dist-packages (from requests[socks]->gdown) (3.0.4)\n",
            "Requirement already satisfied: PySocks!=1.5.7,>=1.5.6 in ./.local/lib/python3.6/site-packages (from requests[socks]->gdown) (1.7.1)\n",
            "Note: you may need to restart the kernel to use updated packages.\n"
          ]
        }
      ],
      "source": [
        "pip install gdown"
      ]
    },
    {
      "cell_type": "markdown",
      "metadata": {
        "id": "VsxZ2uT9hnmJ"
      },
      "source": [
        "#### Penjelasan singkat:  \n",
        "Library gdown digunakan untuk mengunduh dataset dari Google Drive menggunakan link, terutama untuk file berukuran besar yang tidak dapat diunduh langsung dengan wget atau curl."
      ]
    },
    {
      "cell_type": "code",
      "execution_count": null,
      "metadata": {
        "id": "v2tVq92IhnmJ",
        "outputId": "bb95d67c-4fdf-40a3-cdf7-4edf37e425a8"
      },
      "outputs": [
        {
          "name": "stdout",
          "output_type": "stream",
          "text": [
            "Defaulting to user installation because normal site-packages is not writeable\n",
            "Requirement already satisfied: pandas in /usr/local/lib/python3.6/dist-packages (0.25.3)\n",
            "Requirement already satisfied: python-dateutil>=2.6.1 in /usr/local/lib/python3.6/dist-packages (from pandas) (2.8.1)\n",
            "Requirement already satisfied: numpy>=1.13.3 in /usr/local/lib/python3.6/dist-packages (from pandas) (1.19.5)\n",
            "Requirement already satisfied: pytz>=2017.2 in /usr/local/lib/python3.6/dist-packages (from pandas) (2020.1)\n",
            "Requirement already satisfied: six>=1.5 in /usr/local/lib/python3.6/dist-packages (from python-dateutil>=2.6.1->pandas) (1.15.0)\n",
            "Note: you may need to restart the kernel to use updated packages.\n"
          ]
        }
      ],
      "source": [
        "pip install pandas"
      ]
    },
    {
      "cell_type": "markdown",
      "metadata": {
        "id": "xUaHkwKVhnmJ"
      },
      "source": [
        "#### Penjelasan singkat:  \n",
        "Library pandas digunakan untuk memproses, menganalisis, dan memanipulasi data dalam bentuk tabel (DataFrame) secara efisien."
      ]
    },
    {
      "cell_type": "code",
      "execution_count": null,
      "metadata": {
        "id": "8CpLFv2ohnmJ",
        "outputId": "b30fe3d3-0142-4d43-f821-e9ddb7bbd9e5"
      },
      "outputs": [
        {
          "name": "stdout",
          "output_type": "stream",
          "text": [
            "Defaulting to user installation because normal site-packages is not writeable\n",
            "\u001b[31mERROR: Could not find a version that satisfies the requirement re (from versions: none)\u001b[0m\n",
            "\u001b[31mERROR: No matching distribution found for re\u001b[0m\n",
            "Note: you may need to restart the kernel to use updated packages.\n"
          ]
        }
      ],
      "source": [
        "pip install re"
      ]
    },
    {
      "cell_type": "markdown",
      "metadata": {
        "id": "hHrBhSFIhnmJ"
      },
      "source": [
        "#### Penjelasan singkat:  \n",
        "Library re digunakan untuk memproses dan mencocokkan pola teks menggunakan regular expressions (regex)."
      ]
    },
    {
      "cell_type": "code",
      "execution_count": null,
      "metadata": {
        "id": "u-S5ectQhnmJ",
        "outputId": "c2c9bdca-ba9a-4d7c-a0a4-c91c6cbc53e3"
      },
      "outputs": [
        {
          "name": "stdout",
          "output_type": "stream",
          "text": [
            "Defaulting to user installation because normal site-packages is not writeable\n",
            "Requirement already satisfied: nltk in /usr/local/lib/python3.6/dist-packages (3.4.5)\n",
            "Requirement already satisfied: six in /usr/local/lib/python3.6/dist-packages (from nltk) (1.15.0)\n",
            "Note: you may need to restart the kernel to use updated packages.\n"
          ]
        }
      ],
      "source": [
        "pip install nltk"
      ]
    },
    {
      "cell_type": "markdown",
      "metadata": {
        "id": "Z-QP7MUThnmK"
      },
      "source": [
        "#### Penjelasan singkat:  \n",
        "Library nltk digunakan untuk memproses, menganalisis, dan memanipulasi teks dalam bidang Natural Language Processing (NLP), seperti tokenisasi, stemming, dan stopword removal."
      ]
    },
    {
      "cell_type": "code",
      "execution_count": null,
      "metadata": {
        "id": "GdgUsI7rhnmK",
        "outputId": "343efe1f-2bd8-486d-f149-cbe3384a4364"
      },
      "outputs": [
        {
          "name": "stdout",
          "output_type": "stream",
          "text": [
            "Defaulting to user installation because normal site-packages is not writeable\n",
            "Requirement already satisfied: matplotlib in /usr/local/lib/python3.6/dist-packages (3.1.1)\n",
            "Requirement already satisfied: python-dateutil>=2.1 in /usr/local/lib/python3.6/dist-packages (from matplotlib) (2.8.1)\n",
            "Requirement already satisfied: pyparsing!=2.0.4,!=2.1.2,!=2.1.6,>=2.0.1 in /usr/local/lib/python3.6/dist-packages (from matplotlib) (2.4.7)\n",
            "Requirement already satisfied: numpy>=1.11 in /usr/local/lib/python3.6/dist-packages (from matplotlib) (1.19.5)\n",
            "Requirement already satisfied: cycler>=0.10 in /usr/local/lib/python3.6/dist-packages (from matplotlib) (0.10.0)\n",
            "Requirement already satisfied: kiwisolver>=1.0.1 in /usr/local/lib/python3.6/dist-packages (from matplotlib) (1.2.0)\n",
            "Requirement already satisfied: six in /usr/local/lib/python3.6/dist-packages (from cycler>=0.10->matplotlib) (1.15.0)\n",
            "Note: you may need to restart the kernel to use updated packages.\n"
          ]
        }
      ],
      "source": [
        "pip install matplotlib"
      ]
    },
    {
      "cell_type": "markdown",
      "metadata": {
        "id": "12S45JBOhnmK"
      },
      "source": [
        "#### Penjelasan singkat:  \n",
        "Library matplotlib digunakan untuk membuat visualisasi data dalam bentuk grafik, seperti diagram batang, garis, sebaran, dan histogram."
      ]
    },
    {
      "cell_type": "code",
      "execution_count": null,
      "metadata": {
        "id": "QBpo0Zu2hnmK",
        "outputId": "737c8a99-c616-4b56-8d89-5b1a258e6c53"
      },
      "outputs": [
        {
          "name": "stdout",
          "output_type": "stream",
          "text": [
            "Defaulting to user installation because normal site-packages is not writeable\n",
            "Requirement already satisfied: sklearn in ./.local/lib/python3.6/site-packages (0.0)\n",
            "Requirement already satisfied: scikit-learn in /usr/local/lib/python3.6/dist-packages (from sklearn) (0.23.1)\n",
            "Requirement already satisfied: threadpoolctl>=2.0.0 in /usr/local/lib/python3.6/dist-packages (from scikit-learn->sklearn) (2.1.0)\n",
            "Requirement already satisfied: joblib>=0.11 in /usr/local/lib/python3.6/dist-packages (from scikit-learn->sklearn) (0.14.0)\n",
            "Requirement already satisfied: scipy>=0.19.1 in /usr/local/lib/python3.6/dist-packages (from scikit-learn->sklearn) (1.3.1)\n",
            "Requirement already satisfied: numpy>=1.13.3 in /usr/local/lib/python3.6/dist-packages (from scikit-learn->sklearn) (1.19.5)\n",
            "Note: you may need to restart the kernel to use updated packages.\n"
          ]
        }
      ],
      "source": [
        "pip install sklearn"
      ]
    },
    {
      "cell_type": "markdown",
      "metadata": {
        "id": "vZU83J8DhnmK"
      },
      "source": [
        "#### Penjelasan singkat:    \n",
        "Library sklearn (Scikit-Learn) digunakan untuk membangun dan mengimplementasikan model Machine Learning, termasuk preprocessing data, klasifikasi, regresi, clustering, dan evaluasi model."
      ]
    },
    {
      "cell_type": "code",
      "execution_count": null,
      "metadata": {
        "id": "hjXiWm_6hnmK",
        "outputId": "b64818a3-d5fa-428f-f3c1-18c97f3966be"
      },
      "outputs": [
        {
          "name": "stdout",
          "output_type": "stream",
          "text": [
            "Defaulting to user installation because normal site-packages is not writeable\n",
            "Requirement already satisfied: tensorflow in /usr/local/lib/python3.6/dist-packages (2.6.2)\n",
            "Requirement already satisfied: typing-extensions~=3.7.4 in /usr/local/lib/python3.6/dist-packages (from tensorflow) (3.7.4.3)\n",
            "Requirement already satisfied: h5py~=3.1.0 in /usr/local/lib/python3.6/dist-packages (from tensorflow) (3.1.0)\n",
            "Requirement already satisfied: google-pasta~=0.2 in /usr/local/lib/python3.6/dist-packages (from tensorflow) (0.2.0)\n",
            "Requirement already satisfied: grpcio<2.0,>=1.37.0 in /usr/local/lib/python3.6/dist-packages (from tensorflow) (1.48.2)\n",
            "Requirement already satisfied: opt-einsum~=3.3.0 in /usr/local/lib/python3.6/dist-packages (from tensorflow) (3.3.0)\n",
            "Requirement already satisfied: keras-preprocessing~=1.1.2 in /usr/local/lib/python3.6/dist-packages (from tensorflow) (1.1.2)\n",
            "Requirement already satisfied: termcolor~=1.1.0 in /usr/local/lib/python3.6/dist-packages (from tensorflow) (1.1.0)\n",
            "Requirement already satisfied: numpy~=1.19.2 in /usr/local/lib/python3.6/dist-packages (from tensorflow) (1.19.5)\n",
            "Requirement already satisfied: astunparse~=1.6.3 in /usr/local/lib/python3.6/dist-packages (from tensorflow) (1.6.3)\n",
            "Requirement already satisfied: absl-py~=0.10 in /usr/local/lib/python3.6/dist-packages (from tensorflow) (0.15.0)\n",
            "Requirement already satisfied: tensorboard<2.7,>=2.6.0 in /usr/local/lib/python3.6/dist-packages (from tensorflow) (2.6.0)\n",
            "Requirement already satisfied: wrapt~=1.12.1 in /usr/local/lib/python3.6/dist-packages (from tensorflow) (1.12.1)\n",
            "Requirement already satisfied: gast==0.4.0 in /usr/local/lib/python3.6/dist-packages (from tensorflow) (0.4.0)\n",
            "Requirement already satisfied: protobuf>=3.9.2 in /usr/local/lib/python3.6/dist-packages (from tensorflow) (3.12.2)\n",
            "Requirement already satisfied: flatbuffers~=1.12.0 in /usr/local/lib/python3.6/dist-packages (from tensorflow) (1.12)\n",
            "Requirement already satisfied: keras<2.7,>=2.6.0 in /usr/local/lib/python3.6/dist-packages (from tensorflow) (2.6.0)\n",
            "Requirement already satisfied: wheel~=0.35 in /usr/local/lib/python3.6/dist-packages (from tensorflow) (0.37.1)\n",
            "Requirement already satisfied: six~=1.15.0 in /usr/local/lib/python3.6/dist-packages (from tensorflow) (1.15.0)\n",
            "Requirement already satisfied: clang~=5.0 in /usr/local/lib/python3.6/dist-packages (from tensorflow) (5.0)\n",
            "Requirement already satisfied: tensorflow-estimator<2.7,>=2.6.0 in /usr/local/lib/python3.6/dist-packages (from tensorflow) (2.6.0)\n",
            "Requirement already satisfied: cached-property in /usr/local/lib/python3.6/dist-packages (from h5py~=3.1.0->tensorflow) (1.5.2)\n",
            "Requirement already satisfied: setuptools in /usr/local/lib/python3.6/dist-packages (from protobuf>=3.9.2->tensorflow) (47.1.1)\n",
            "Requirement already satisfied: requests<3,>=2.21.0 in /usr/local/lib/python3.6/dist-packages (from tensorboard<2.7,>=2.6.0->tensorflow) (2.23.0)\n",
            "Requirement already satisfied: tensorboard-plugin-wit>=1.6.0 in /usr/local/lib/python3.6/dist-packages (from tensorboard<2.7,>=2.6.0->tensorflow) (1.8.1)\n",
            "Requirement already satisfied: werkzeug>=0.11.15 in /usr/local/lib/python3.6/dist-packages (from tensorboard<2.7,>=2.6.0->tensorflow) (1.0.1)\n",
            "Requirement already satisfied: tensorboard-data-server<0.7.0,>=0.6.0 in /usr/local/lib/python3.6/dist-packages (from tensorboard<2.7,>=2.6.0->tensorflow) (0.6.1)\n",
            "Requirement already satisfied: markdown>=2.6.8 in /usr/local/lib/python3.6/dist-packages (from tensorboard<2.7,>=2.6.0->tensorflow) (3.2.2)\n",
            "Requirement already satisfied: google-auth-oauthlib<0.5,>=0.4.1 in /usr/local/lib/python3.6/dist-packages (from tensorboard<2.7,>=2.6.0->tensorflow) (0.4.6)\n",
            "Requirement already satisfied: google-auth<2,>=1.6.3 in /usr/local/lib/python3.6/dist-packages (from tensorboard<2.7,>=2.6.0->tensorflow) (1.35.0)\n",
            "Requirement already satisfied: cachetools<5.0,>=2.0.0 in /usr/local/lib/python3.6/dist-packages (from google-auth<2,>=1.6.3->tensorboard<2.7,>=2.6.0->tensorflow) (4.2.4)\n",
            "Requirement already satisfied: pyasn1-modules>=0.2.1 in /usr/local/lib/python3.6/dist-packages (from google-auth<2,>=1.6.3->tensorboard<2.7,>=2.6.0->tensorflow) (0.2.8)\n",
            "Requirement already satisfied: rsa<5,>=3.1.4 in /usr/local/lib/python3.6/dist-packages (from google-auth<2,>=1.6.3->tensorboard<2.7,>=2.6.0->tensorflow) (4.9)\n",
            "Requirement already satisfied: requests-oauthlib>=0.7.0 in /usr/local/lib/python3.6/dist-packages (from google-auth-oauthlib<0.5,>=0.4.1->tensorboard<2.7,>=2.6.0->tensorflow) (1.3.1)\n",
            "Requirement already satisfied: importlib-metadata in /usr/local/lib/python3.6/dist-packages (from markdown>=2.6.8->tensorboard<2.7,>=2.6.0->tensorflow) (1.6.1)\n",
            "Requirement already satisfied: urllib3!=1.25.0,!=1.25.1,<1.26,>=1.21.1 in /usr/local/lib/python3.6/dist-packages (from requests<3,>=2.21.0->tensorboard<2.7,>=2.6.0->tensorflow) (1.25.9)\n",
            "Requirement already satisfied: certifi>=2017.4.17 in /usr/local/lib/python3.6/dist-packages (from requests<3,>=2.21.0->tensorboard<2.7,>=2.6.0->tensorflow) (2020.4.5.2)\n",
            "Requirement already satisfied: idna<3,>=2.5 in /usr/local/lib/python3.6/dist-packages (from requests<3,>=2.21.0->tensorboard<2.7,>=2.6.0->tensorflow) (2.9)\n",
            "Requirement already satisfied: chardet<4,>=3.0.2 in /usr/local/lib/python3.6/dist-packages (from requests<3,>=2.21.0->tensorboard<2.7,>=2.6.0->tensorflow) (3.0.4)\n",
            "Requirement already satisfied: pyasn1<0.5.0,>=0.4.6 in /usr/local/lib/python3.6/dist-packages (from pyasn1-modules>=0.2.1->google-auth<2,>=1.6.3->tensorboard<2.7,>=2.6.0->tensorflow) (0.4.8)\n",
            "Requirement already satisfied: oauthlib>=3.0.0 in /usr/local/lib/python3.6/dist-packages (from requests-oauthlib>=0.7.0->google-auth-oauthlib<0.5,>=0.4.1->tensorboard<2.7,>=2.6.0->tensorflow) (3.1.0)\n",
            "Requirement already satisfied: zipp>=0.5 in /usr/local/lib/python3.6/dist-packages (from importlib-metadata->markdown>=2.6.8->tensorboard<2.7,>=2.6.0->tensorflow) (3.1.0)\n",
            "Note: you may need to restart the kernel to use updated packages.\n"
          ]
        }
      ],
      "source": [
        "pip install tensorflow"
      ]
    },
    {
      "cell_type": "markdown",
      "metadata": {
        "id": "axEcUMqLhnmK"
      },
      "source": [
        "#### Penjelasan singkat:    \n",
        "Library TensorFlow digunakan untuk membangun, melatih, dan mengimplementasikan model Machine Learning dan Deep Learning, terutama dalam jaringan saraf tiruan (Neural Networks)."
      ]
    },
    {
      "cell_type": "code",
      "execution_count": null,
      "metadata": {
        "id": "UE4B5OXwhnmK",
        "outputId": "0b59c9db-c571-44f0-da0e-a34adbb366d2"
      },
      "outputs": [
        {
          "name": "stdout",
          "output_type": "stream",
          "text": [
            "Defaulting to user installation because normal site-packages is not writeable\n",
            "Requirement already satisfied: wordcloud in ./.local/lib/python3.6/site-packages (1.9.2)\n",
            "Requirement already satisfied: numpy>=1.6.1 in /usr/local/lib/python3.6/dist-packages (from wordcloud) (1.19.5)\n",
            "Requirement already satisfied: matplotlib in /usr/local/lib/python3.6/dist-packages (from wordcloud) (3.1.1)\n",
            "Requirement already satisfied: pillow in ./.local/lib/python3.6/site-packages (from wordcloud) (8.4.0)\n",
            "Requirement already satisfied: kiwisolver>=1.0.1 in /usr/local/lib/python3.6/dist-packages (from matplotlib->wordcloud) (1.2.0)\n",
            "Requirement already satisfied: python-dateutil>=2.1 in /usr/local/lib/python3.6/dist-packages (from matplotlib->wordcloud) (2.8.1)\n",
            "Requirement already satisfied: pyparsing!=2.0.4,!=2.1.2,!=2.1.6,>=2.0.1 in /usr/local/lib/python3.6/dist-packages (from matplotlib->wordcloud) (2.4.7)\n",
            "Requirement already satisfied: cycler>=0.10 in /usr/local/lib/python3.6/dist-packages (from matplotlib->wordcloud) (0.10.0)\n",
            "Requirement already satisfied: six in /usr/local/lib/python3.6/dist-packages (from cycler>=0.10->matplotlib->wordcloud) (1.15.0)\n",
            "Note: you may need to restart the kernel to use updated packages.\n"
          ]
        }
      ],
      "source": [
        "pip install wordcloud"
      ]
    },
    {
      "cell_type": "markdown",
      "metadata": {
        "id": "RH2buUEShnmK"
      },
      "source": [
        "#### Penjelasan singkat:  \n",
        "Library wordcloud digunakan untuk membuat visualisasi kata dalam bentuk awan kata (word cloud), yang menampilkan frekuensi kata dalam teks secara menarik dan informatif."
      ]
    },
    {
      "cell_type": "code",
      "execution_count": null,
      "metadata": {
        "id": "M4o3dEC2hnmL",
        "outputId": "471cbfe8-ccc6-4268-b049-ffb3e59df83a"
      },
      "outputs": [
        {
          "name": "stdout",
          "output_type": "stream",
          "text": [
            "Defaulting to user installation because normal site-packages is not writeable\n",
            "\u001b[31mERROR: Could not find a version that satisfies the requirement collections (from versions: none)\u001b[0m\n",
            "\u001b[31mERROR: No matching distribution found for collections\u001b[0m\n",
            "Note: you may need to restart the kernel to use updated packages.\n"
          ]
        }
      ],
      "source": [
        "pip install collections"
      ]
    },
    {
      "cell_type": "markdown",
      "metadata": {
        "id": "jOBIHcGOhnmL"
      },
      "source": [
        "#### Penjelasan singkat:  \n",
        "Library collections digunakan untuk menyediakan struktur data tambahan seperti counter, deque, defaultdict, yang lebih efisien dibandingkan tipe data bawaan Python untuk operasi tertentu."
      ]
    },
    {
      "cell_type": "code",
      "execution_count": null,
      "metadata": {
        "id": "zKOhG-rShnmL",
        "outputId": "0cfb66c5-d20e-43e1-d1a3-aa7624b22aae"
      },
      "outputs": [
        {
          "name": "stdout",
          "output_type": "stream",
          "text": [
            "Defaulting to user installation because normal site-packages is not writeable\n",
            "Requirement already satisfied: seaborn in ./.local/lib/python3.6/site-packages (0.11.2)\n",
            "Requirement already satisfied: pandas>=0.23 in /usr/local/lib/python3.6/dist-packages (from seaborn) (0.25.3)\n",
            "Requirement already satisfied: numpy>=1.15 in /usr/local/lib/python3.6/dist-packages (from seaborn) (1.19.5)\n",
            "Requirement already satisfied: matplotlib>=2.2 in /usr/local/lib/python3.6/dist-packages (from seaborn) (3.1.1)\n",
            "Requirement already satisfied: scipy>=1.0 in /usr/local/lib/python3.6/dist-packages (from seaborn) (1.3.1)\n",
            "Requirement already satisfied: pyparsing!=2.0.4,!=2.1.2,!=2.1.6,>=2.0.1 in /usr/local/lib/python3.6/dist-packages (from matplotlib>=2.2->seaborn) (2.4.7)\n",
            "Requirement already satisfied: kiwisolver>=1.0.1 in /usr/local/lib/python3.6/dist-packages (from matplotlib>=2.2->seaborn) (1.2.0)\n",
            "Requirement already satisfied: cycler>=0.10 in /usr/local/lib/python3.6/dist-packages (from matplotlib>=2.2->seaborn) (0.10.0)\n",
            "Requirement already satisfied: python-dateutil>=2.1 in /usr/local/lib/python3.6/dist-packages (from matplotlib>=2.2->seaborn) (2.8.1)\n",
            "Requirement already satisfied: pytz>=2017.2 in /usr/local/lib/python3.6/dist-packages (from pandas>=0.23->seaborn) (2020.1)\n",
            "Requirement already satisfied: six in /usr/local/lib/python3.6/dist-packages (from cycler>=0.10->matplotlib>=2.2->seaborn) (1.15.0)\n",
            "Note: you may need to restart the kernel to use updated packages.\n"
          ]
        }
      ],
      "source": [
        "pip install seaborn"
      ]
    },
    {
      "cell_type": "markdown",
      "metadata": {
        "id": "oSIbztuzhnmL"
      },
      "source": [
        "#### Penjelasan singkat:  \n",
        "Library seaborn digunakan untuk membuat visualisasi data yang lebih informatif dan estetis, terutama untuk analisis statistik, dengan fitur bawaan seperti heatmap, boxplot, dan scatterplot."
      ]
    },
    {
      "cell_type": "code",
      "execution_count": null,
      "metadata": {
        "id": "HNQsal5QhnmL",
        "outputId": "5902e7f3-df51-4717-8d46-81a2376c9fd9"
      },
      "outputs": [
        {
          "name": "stdout",
          "output_type": "stream",
          "text": [
            "Defaulting to user installation because normal site-packages is not writeable\n",
            "\u001b[31mERROR: Could not find a version that satisfies the requirement pickle (from versions: none)\u001b[0m\n",
            "\u001b[31mERROR: No matching distribution found for pickle\u001b[0m\n",
            "Note: you may need to restart the kernel to use updated packages.\n"
          ]
        }
      ],
      "source": [
        "pip install pickle"
      ]
    },
    {
      "cell_type": "markdown",
      "metadata": {
        "id": "fWRvUvixhnmL"
      },
      "source": [
        "#### Penjelasan singkat:  \n",
        "Library pickle digunakan untuk menyimpan dan memuat kembali objek seperti tokenizer agar dapat digunakan kembali dalam prediksi."
      ]
    },
    {
      "cell_type": "markdown",
      "metadata": {
        "id": "97DJ_cVVhnmL"
      },
      "source": [
        "### Memanggil library yang dibutuhkan"
      ]
    },
    {
      "cell_type": "markdown",
      "metadata": {
        "id": "Fziuq6_ZhnmL"
      },
      "source": [
        "Memanggil library yang dibutuhkan untuk menganalisis sentimen."
      ]
    },
    {
      "cell_type": "code",
      "execution_count": null,
      "metadata": {
        "id": "pL1VHd5phnmL",
        "outputId": "ef23d03f-8aee-427f-d9e4-798bbb2f6fbb"
      },
      "outputs": [
        {
          "name": "stderr",
          "output_type": "stream",
          "text": [
            "[nltk_data] Downloading package stopwords to\n",
            "[nltk_data]     /home/15000000/nltk_data...\n",
            "[nltk_data]   Package stopwords is already up-to-date!\n"
          ]
        }
      ],
      "source": [
        "# Memanggil library python\n",
        "import gdown\n",
        "import pandas as pd\n",
        "import re\n",
        "import nltk\n",
        "from nltk import ngrams\n",
        "from nltk.corpus import stopwords\n",
        "import matplotlib.pyplot as plt\n",
        "from sklearn.model_selection import train_test_split\n",
        "import tensorflow as tf\n",
        "from tensorflow.keras.preprocessing.text import Tokenizer\n",
        "from tensorflow.keras.preprocessing.sequence import pad_sequences\n",
        "from tensorflow.keras.models import Sequential\n",
        "from tensorflow.keras.layers import Embedding, Bidirectional, LSTM, Dense, Dropout, BatchNormalization\n",
        "from tensorflow.keras.callbacks import ModelCheckpoint\n",
        "from tensorflow.keras.callbacks import EarlyStopping\n",
        "from wordcloud import WordCloud\n",
        "from collections import Counter\n",
        "import seaborn as sns\n",
        "import pickle\n",
        "\n",
        "# Download stopwords untuk pemrosesan teks\n",
        "nltk.download('stopwords')\n",
        "stop_words = set(stopwords.words('english'))"
      ]
    },
    {
      "cell_type": "markdown",
      "metadata": {
        "id": "-kOj2gPfhnmM"
      },
      "source": [
        "## Tahap 2: Data Understanding\n",
        "\n",
        "Tahap Data Understanding dilakukan untuk mengumpulkan, menelaah, dan memvalidasi data sebelum masuk ke tahap pemrosesan lebih lanjut."
      ]
    },
    {
      "cell_type": "markdown",
      "metadata": {
        "id": "PHzI_aot5DKU"
      },
      "source": [
        "### Mengumpulkan data\n",
        "Dataset yang digunakan tersimpan di Google Drive dan perlu diunduh terlebih dahulu sebelum dianalisis."
      ]
    },
    {
      "cell_type": "code",
      "execution_count": null,
      "metadata": {
        "colab": {
          "base_uri": "https://localhost:8080/",
          "height": 122
        },
        "id": "18FxYwqNsTqY",
        "outputId": "e75b5eed-88a1-4b25-be14-a13b0f9c37a7"
      },
      "outputs": [
        {
          "name": "stderr",
          "output_type": "stream",
          "text": [
            "Downloading...\n",
            "From (original): https://drive.google.com/uc?id=1uQsjTuRWrfupde9DUbjGv1N9hn5o1mPU\n",
            "From (redirected): https://drive.google.com/uc?id=1uQsjTuRWrfupde9DUbjGv1N9hn5o1mPU&confirm=t&uuid=7ec4bca9-92c2-4d3c-b2e1-0525ae7824c2\n",
            "To: /home/15000000/Dataset.csv\n",
            "100%|██████████| 1.59G/1.59G [00:39<00:00, 40.0MB/s]\n"
          ]
        },
        {
          "data": {
            "text/plain": [
              "'Dataset.csv'"
            ]
          },
          "execution_count": 13,
          "metadata": {},
          "output_type": "execute_result"
        }
      ],
      "source": [
        "# Mengunduh dataset dari Google Drive\n",
        "url = 'https://drive.google.com/uc?id=1uQsjTuRWrfupde9DUbjGv1N9hn5o1mPU'\n",
        "output = 'Dataset.csv'\n",
        "gdown.download(url, output, quiet=False)\n",
        "\n",
        "# file akan disimpan dengan nama Dataset.csv "
      ]
    },
    {
      "cell_type": "markdown",
      "metadata": {
        "id": "EOdrsEjZhnmM"
      },
      "source": [
        "Dataset yang diunduh akan tersimpan pada folder yang sama dengan lokasi penyimpanan file notebook (.ipynb)."
      ]
    },
    {
      "cell_type": "markdown",
      "metadata": {
        "id": "Zsa-3KufhnmM"
      },
      "source": [
        "### Memuat dan menelaah dataset\n",
        "\n",
        "Memuat dan menelaah data diperlukan untuk memahami struktur, kualitas, dan karakteristik dataset sebelum pemrosesan lebih lanjut. Langkah ini dilakukan untuk:  \n",
        "1. Memeriksa keberadaan header: Menambahkan nama kolom jika tidak tersedia.  \n",
        "2. Menampilkan struktur dan tipe data: Memastikan format data sesuai untuk analisis.  \n",
        "3. Menganalisis statistik deskriptif: Mengetahui distribusi nilai dan mendeteksi potensi anomali dalam dataset."
      ]
    },
    {
      "cell_type": "code",
      "execution_count": null,
      "metadata": {
        "id": "KMlHMJ2ZhnmM",
        "outputId": "204146e5-66ea-466d-c976-50521a16e951"
      },
      "outputs": [
        {
          "data": {
            "text/html": [
              "<div>\n",
              "<style scoped>\n",
              "    .dataframe tbody tr th:only-of-type {\n",
              "        vertical-align: middle;\n",
              "    }\n",
              "\n",
              "    .dataframe tbody tr th {\n",
              "        vertical-align: top;\n",
              "    }\n",
              "\n",
              "    .dataframe thead th {\n",
              "        text-align: right;\n",
              "    }\n",
              "</style>\n",
              "<table border=\"1\" class=\"dataframe\">\n",
              "  <thead>\n",
              "    <tr style=\"text-align: right;\">\n",
              "      <th></th>\n",
              "      <th>2</th>\n",
              "      <th>Stuning even for the non-gamer</th>\n",
              "      <th>This sound track was beautiful! It paints the senery in your mind so well I would recomend it even to people who hate vid. game music! I have played the game Chrono Cross but out of all of the games I have ever played it has the best music! It backs away from crude keyboarding and takes a fresher step with grate guitars and soulful orchestras. It would impress anyone who cares to listen! ^_^</th>\n",
              "    </tr>\n",
              "  </thead>\n",
              "  <tbody>\n",
              "    <tr>\n",
              "      <th>0</th>\n",
              "      <td>2</td>\n",
              "      <td>The best soundtrack ever to anything.</td>\n",
              "      <td>I'm reading a lot of reviews saying that this ...</td>\n",
              "    </tr>\n",
              "    <tr>\n",
              "      <th>1</th>\n",
              "      <td>2</td>\n",
              "      <td>Amazing!</td>\n",
              "      <td>This soundtrack is my favorite music of all ti...</td>\n",
              "    </tr>\n",
              "    <tr>\n",
              "      <th>2</th>\n",
              "      <td>2</td>\n",
              "      <td>Excellent Soundtrack</td>\n",
              "      <td>I truly like this soundtrack and I enjoy video...</td>\n",
              "    </tr>\n",
              "    <tr>\n",
              "      <th>3</th>\n",
              "      <td>2</td>\n",
              "      <td>Remember, Pull Your Jaw Off The Floor After He...</td>\n",
              "      <td>If you've played the game, you know how divine...</td>\n",
              "    </tr>\n",
              "    <tr>\n",
              "      <th>4</th>\n",
              "      <td>2</td>\n",
              "      <td>an absolute masterpiece</td>\n",
              "      <td>I am quite sure any of you actually taking the...</td>\n",
              "    </tr>\n",
              "    <tr>\n",
              "      <th>...</th>\n",
              "      <td>...</td>\n",
              "      <td>...</td>\n",
              "      <td>...</td>\n",
              "    </tr>\n",
              "    <tr>\n",
              "      <th>3599994</th>\n",
              "      <td>1</td>\n",
              "      <td>Don't do it!!</td>\n",
              "      <td>The high chair looks great when it first comes...</td>\n",
              "    </tr>\n",
              "    <tr>\n",
              "      <th>3599995</th>\n",
              "      <td>1</td>\n",
              "      <td>Looks nice, low functionality</td>\n",
              "      <td>I have used this highchair for 2 kids now and ...</td>\n",
              "    </tr>\n",
              "    <tr>\n",
              "      <th>3599996</th>\n",
              "      <td>1</td>\n",
              "      <td>compact, but hard to clean</td>\n",
              "      <td>We have a small house, and really wanted two o...</td>\n",
              "    </tr>\n",
              "    <tr>\n",
              "      <th>3599997</th>\n",
              "      <td>1</td>\n",
              "      <td>what is it saying?</td>\n",
              "      <td>not sure what this book is supposed to be. It ...</td>\n",
              "    </tr>\n",
              "    <tr>\n",
              "      <th>3599998</th>\n",
              "      <td>2</td>\n",
              "      <td>Makes My Blood Run Red-White-And-Blue</td>\n",
              "      <td>I agree that every American should read this b...</td>\n",
              "    </tr>\n",
              "  </tbody>\n",
              "</table>\n",
              "<p>3599999 rows × 3 columns</p>\n",
              "</div>"
            ],
            "text/plain": [
              "         2                     Stuning even for the non-gamer  \\\n",
              "0        2              The best soundtrack ever to anything.   \n",
              "1        2                                           Amazing!   \n",
              "2        2                               Excellent Soundtrack   \n",
              "3        2  Remember, Pull Your Jaw Off The Floor After He...   \n",
              "4        2                            an absolute masterpiece   \n",
              "...     ..                                                ...   \n",
              "3599994  1                                      Don't do it!!   \n",
              "3599995  1                      Looks nice, low functionality   \n",
              "3599996  1                         compact, but hard to clean   \n",
              "3599997  1                                 what is it saying?   \n",
              "3599998  2              Makes My Blood Run Red-White-And-Blue   \n",
              "\n",
              "        This sound track was beautiful! It paints the senery in your mind so well I would recomend it even to people who hate vid. game music! I have played the game Chrono Cross but out of all of the games I have ever played it has the best music! It backs away from crude keyboarding and takes a fresher step with grate guitars and soulful orchestras. It would impress anyone who cares to listen! ^_^  \n",
              "0        I'm reading a lot of reviews saying that this ...                                                                                                                                                                                                                                                                                                                                                          \n",
              "1        This soundtrack is my favorite music of all ti...                                                                                                                                                                                                                                                                                                                                                          \n",
              "2        I truly like this soundtrack and I enjoy video...                                                                                                                                                                                                                                                                                                                                                          \n",
              "3        If you've played the game, you know how divine...                                                                                                                                                                                                                                                                                                                                                          \n",
              "4        I am quite sure any of you actually taking the...                                                                                                                                                                                                                                                                                                                                                          \n",
              "...                                                    ...                                                                                                                                                                                                                                                                                                                                                          \n",
              "3599994  The high chair looks great when it first comes...                                                                                                                                                                                                                                                                                                                                                          \n",
              "3599995  I have used this highchair for 2 kids now and ...                                                                                                                                                                                                                                                                                                                                                          \n",
              "3599996  We have a small house, and really wanted two o...                                                                                                                                                                                                                                                                                                                                                          \n",
              "3599997  not sure what this book is supposed to be. It ...                                                                                                                                                                                                                                                                                                                                                          \n",
              "3599998  I agree that every American should read this b...                                                                                                                                                                                                                                                                                                                                                          \n",
              "\n",
              "[3599999 rows x 3 columns]"
            ]
          },
          "execution_count": 14,
          "metadata": {},
          "output_type": "execute_result"
        }
      ],
      "source": [
        "# Memuat dataset awal\n",
        "df = pd.read_csv(\"Dataset.csv\")\n",
        "df"
      ]
    },
    {
      "cell_type": "markdown",
      "metadata": {
        "id": "Pl-c4yQhhnmM"
      },
      "source": [
        "Berdasarkan hasil pemuatan dataset, terlihat bahwa dataset tidak memiliki judul pada masing-masing kolomnya. Oleh karena itu, perlu dilakukan pemberian nama kolom secara manual."
      ]
    },
    {
      "cell_type": "code",
      "execution_count": null,
      "metadata": {
        "colab": {
          "base_uri": "https://localhost:8080/",
          "height": 423
        },
        "id": "xT5JnVc60POH",
        "outputId": "d3d4b49f-5287-4bc3-c6e0-2fad068ce89f"
      },
      "outputs": [
        {
          "data": {
            "text/html": [
              "<div>\n",
              "<style scoped>\n",
              "    .dataframe tbody tr th:only-of-type {\n",
              "        vertical-align: middle;\n",
              "    }\n",
              "\n",
              "    .dataframe tbody tr th {\n",
              "        vertical-align: top;\n",
              "    }\n",
              "\n",
              "    .dataframe thead th {\n",
              "        text-align: right;\n",
              "    }\n",
              "</style>\n",
              "<table border=\"1\" class=\"dataframe\">\n",
              "  <thead>\n",
              "    <tr style=\"text-align: right;\">\n",
              "      <th></th>\n",
              "      <th>Rating</th>\n",
              "      <th>Judul</th>\n",
              "      <th>Ulasan</th>\n",
              "    </tr>\n",
              "  </thead>\n",
              "  <tbody>\n",
              "    <tr>\n",
              "      <th>0</th>\n",
              "      <td>2</td>\n",
              "      <td>Stuning even for the non-gamer</td>\n",
              "      <td>This sound track was beautiful! It paints the ...</td>\n",
              "    </tr>\n",
              "    <tr>\n",
              "      <th>1</th>\n",
              "      <td>2</td>\n",
              "      <td>The best soundtrack ever to anything.</td>\n",
              "      <td>I'm reading a lot of reviews saying that this ...</td>\n",
              "    </tr>\n",
              "    <tr>\n",
              "      <th>2</th>\n",
              "      <td>2</td>\n",
              "      <td>Amazing!</td>\n",
              "      <td>This soundtrack is my favorite music of all ti...</td>\n",
              "    </tr>\n",
              "    <tr>\n",
              "      <th>3</th>\n",
              "      <td>2</td>\n",
              "      <td>Excellent Soundtrack</td>\n",
              "      <td>I truly like this soundtrack and I enjoy video...</td>\n",
              "    </tr>\n",
              "    <tr>\n",
              "      <th>4</th>\n",
              "      <td>2</td>\n",
              "      <td>Remember, Pull Your Jaw Off The Floor After He...</td>\n",
              "      <td>If you've played the game, you know how divine...</td>\n",
              "    </tr>\n",
              "    <tr>\n",
              "      <th>...</th>\n",
              "      <td>...</td>\n",
              "      <td>...</td>\n",
              "      <td>...</td>\n",
              "    </tr>\n",
              "    <tr>\n",
              "      <th>3599995</th>\n",
              "      <td>1</td>\n",
              "      <td>Don't do it!!</td>\n",
              "      <td>The high chair looks great when it first comes...</td>\n",
              "    </tr>\n",
              "    <tr>\n",
              "      <th>3599996</th>\n",
              "      <td>1</td>\n",
              "      <td>Looks nice, low functionality</td>\n",
              "      <td>I have used this highchair for 2 kids now and ...</td>\n",
              "    </tr>\n",
              "    <tr>\n",
              "      <th>3599997</th>\n",
              "      <td>1</td>\n",
              "      <td>compact, but hard to clean</td>\n",
              "      <td>We have a small house, and really wanted two o...</td>\n",
              "    </tr>\n",
              "    <tr>\n",
              "      <th>3599998</th>\n",
              "      <td>1</td>\n",
              "      <td>what is it saying?</td>\n",
              "      <td>not sure what this book is supposed to be. It ...</td>\n",
              "    </tr>\n",
              "    <tr>\n",
              "      <th>3599999</th>\n",
              "      <td>2</td>\n",
              "      <td>Makes My Blood Run Red-White-And-Blue</td>\n",
              "      <td>I agree that every American should read this b...</td>\n",
              "    </tr>\n",
              "  </tbody>\n",
              "</table>\n",
              "<p>3600000 rows × 3 columns</p>\n",
              "</div>"
            ],
            "text/plain": [
              "         Rating                                              Judul  \\\n",
              "0             2                     Stuning even for the non-gamer   \n",
              "1             2              The best soundtrack ever to anything.   \n",
              "2             2                                           Amazing!   \n",
              "3             2                               Excellent Soundtrack   \n",
              "4             2  Remember, Pull Your Jaw Off The Floor After He...   \n",
              "...         ...                                                ...   \n",
              "3599995       1                                      Don't do it!!   \n",
              "3599996       1                      Looks nice, low functionality   \n",
              "3599997       1                         compact, but hard to clean   \n",
              "3599998       1                                 what is it saying?   \n",
              "3599999       2              Makes My Blood Run Red-White-And-Blue   \n",
              "\n",
              "                                                    Ulasan  \n",
              "0        This sound track was beautiful! It paints the ...  \n",
              "1        I'm reading a lot of reviews saying that this ...  \n",
              "2        This soundtrack is my favorite music of all ti...  \n",
              "3        I truly like this soundtrack and I enjoy video...  \n",
              "4        If you've played the game, you know how divine...  \n",
              "...                                                    ...  \n",
              "3599995  The high chair looks great when it first comes...  \n",
              "3599996  I have used this highchair for 2 kids now and ...  \n",
              "3599997  We have a small house, and really wanted two o...  \n",
              "3599998  not sure what this book is supposed to be. It ...  \n",
              "3599999  I agree that every American should read this b...  \n",
              "\n",
              "[3600000 rows x 3 columns]"
            ]
          },
          "execution_count": 15,
          "metadata": {},
          "output_type": "execute_result"
        }
      ],
      "source": [
        "# Menambahkan header (nama kolom) secara manual\n",
        "df = pd.read_csv(\"Dataset.csv\", header=None)\n",
        "df.columns = ['Rating', 'Judul', 'Ulasan']\n",
        "df"
      ]
    },
    {
      "cell_type": "code",
      "execution_count": null,
      "metadata": {
        "id": "7ZjLuB8EhnmU",
        "outputId": "f8b50c4e-9c9d-41a7-f26b-7303dc7e3aa5"
      },
      "outputs": [
        {
          "name": "stdout",
          "output_type": "stream",
          "text": [
            "<class 'pandas.core.frame.DataFrame'>\n",
            "RangeIndex: 3600000 entries, 0 to 3599999\n",
            "Data columns (total 3 columns):\n",
            "Rating    int64\n",
            "Judul     object\n",
            "Ulasan    object\n",
            "dtypes: int64(1), object(2)\n",
            "memory usage: 82.4+ MB\n"
          ]
        }
      ],
      "source": [
        "# Menampilkan informasi struktur dan tipe data\n",
        "df.info()"
      ]
    },
    {
      "cell_type": "markdown",
      "metadata": {
        "id": "gLiQlcoJoy53"
      },
      "source": [
        "Dataset ini berisi 3,6 juta ulasan dengan 3 kolom utama:\n",
        "\n",
        "- Rating (int64) berisi nilai polaritas sentimen pengguna dimana 1 bernilai negatif dan 2 bernilai positif.\n",
        "\n",
        "- Judul (object) berisi judul dari ulasan, yang bisa memberikan gambaran singkat tentang isi ulasan.\n",
        "\n",
        "- Ulasan (object) isi dari ulasan yang berisi opini pengguna terhadap produk atau layanan."
      ]
    },
    {
      "cell_type": "code",
      "execution_count": null,
      "metadata": {
        "id": "CbKpKdKphnmU",
        "outputId": "16b3dcfa-2918-49c4-b9c4-1d546be42b04"
      },
      "outputs": [
        {
          "data": {
            "text/html": [
              "<div>\n",
              "<style scoped>\n",
              "    .dataframe tbody tr th:only-of-type {\n",
              "        vertical-align: middle;\n",
              "    }\n",
              "\n",
              "    .dataframe tbody tr th {\n",
              "        vertical-align: top;\n",
              "    }\n",
              "\n",
              "    .dataframe thead th {\n",
              "        text-align: right;\n",
              "    }\n",
              "</style>\n",
              "<table border=\"1\" class=\"dataframe\">\n",
              "  <thead>\n",
              "    <tr style=\"text-align: right;\">\n",
              "      <th></th>\n",
              "      <th>Rating</th>\n",
              "      <th>Judul</th>\n",
              "      <th>Ulasan</th>\n",
              "    </tr>\n",
              "  </thead>\n",
              "  <tbody>\n",
              "    <tr>\n",
              "      <th>count</th>\n",
              "      <td>3600000.0</td>\n",
              "      <td>3599923</td>\n",
              "      <td>3600000</td>\n",
              "    </tr>\n",
              "    <tr>\n",
              "      <th>unique</th>\n",
              "      <td>NaN</td>\n",
              "      <td>2628753</td>\n",
              "      <td>3594783</td>\n",
              "    </tr>\n",
              "    <tr>\n",
              "      <th>top</th>\n",
              "      <td>NaN</td>\n",
              "      <td>Disappointed</td>\n",
              "      <td>I bought a QPS back in April, I had configurat...</td>\n",
              "    </tr>\n",
              "    <tr>\n",
              "      <th>freq</th>\n",
              "      <td>NaN</td>\n",
              "      <td>9623</td>\n",
              "      <td>15</td>\n",
              "    </tr>\n",
              "    <tr>\n",
              "      <th>mean</th>\n",
              "      <td>1.5</td>\n",
              "      <td>NaN</td>\n",
              "      <td>NaN</td>\n",
              "    </tr>\n",
              "    <tr>\n",
              "      <th>std</th>\n",
              "      <td>0.5</td>\n",
              "      <td>NaN</td>\n",
              "      <td>NaN</td>\n",
              "    </tr>\n",
              "    <tr>\n",
              "      <th>min</th>\n",
              "      <td>1.0</td>\n",
              "      <td>NaN</td>\n",
              "      <td>NaN</td>\n",
              "    </tr>\n",
              "    <tr>\n",
              "      <th>25%</th>\n",
              "      <td>1.0</td>\n",
              "      <td>NaN</td>\n",
              "      <td>NaN</td>\n",
              "    </tr>\n",
              "    <tr>\n",
              "      <th>50%</th>\n",
              "      <td>1.5</td>\n",
              "      <td>NaN</td>\n",
              "      <td>NaN</td>\n",
              "    </tr>\n",
              "    <tr>\n",
              "      <th>75%</th>\n",
              "      <td>2.0</td>\n",
              "      <td>NaN</td>\n",
              "      <td>NaN</td>\n",
              "    </tr>\n",
              "    <tr>\n",
              "      <th>max</th>\n",
              "      <td>2.0</td>\n",
              "      <td>NaN</td>\n",
              "      <td>NaN</td>\n",
              "    </tr>\n",
              "  </tbody>\n",
              "</table>\n",
              "</div>"
            ],
            "text/plain": [
              "           Rating         Judul  \\\n",
              "count   3600000.0       3599923   \n",
              "unique        NaN       2628753   \n",
              "top           NaN  Disappointed   \n",
              "freq          NaN          9623   \n",
              "mean          1.5           NaN   \n",
              "std           0.5           NaN   \n",
              "min           1.0           NaN   \n",
              "25%           1.0           NaN   \n",
              "50%           1.5           NaN   \n",
              "75%           2.0           NaN   \n",
              "max           2.0           NaN   \n",
              "\n",
              "                                                   Ulasan  \n",
              "count                                             3600000  \n",
              "unique                                            3594783  \n",
              "top     I bought a QPS back in April, I had configurat...  \n",
              "freq                                                   15  \n",
              "mean                                                  NaN  \n",
              "std                                                   NaN  \n",
              "min                                                   NaN  \n",
              "25%                                                   NaN  \n",
              "50%                                                   NaN  \n",
              "75%                                                   NaN  \n",
              "max                                                   NaN  "
            ]
          },
          "execution_count": 17,
          "metadata": {},
          "output_type": "execute_result"
        }
      ],
      "source": [
        "# Menampilkan statistik deskriptif seluruh kolom\n",
        "df.describe(include=\"all\")"
      ]
    },
    {
      "cell_type": "markdown",
      "metadata": {
        "id": "Lq9MUVvwpLGA"
      },
      "source": [
        "Berdasarkan statistik ini, kita bisa menarik beberapa informasi penting, antara lain:\n",
        "\n",
        "\n",
        "- Mean 1.5 → menunjukkan bahwa jumlah ulasan negatif dan positif seimbang.\n",
        "- Judul “Disappointed” muncul 9.623 kali, yang kemungkinan berasal dari ulasan negatif."
      ]
    },
    {
      "cell_type": "markdown",
      "metadata": {
        "id": "vEfRLfAuhnmV"
      },
      "source": [
        "### Memvalidasi data\n",
        "\n",
        "Validasi data diperlukan untuk memastikan kualitas dataset sebelum digunakan dalam pemodelan Machine Learning. Validasi dilakukan dengan:  \n",
        "\n",
        "1. Memeriksa nilai kosong: Menghapus data yang tidak lengkap agar analisis tidak bias.  \n",
        "2. Mendeteksi duplikasi: Menghindari pengaruh ganda dari data yang sama.  \n",
        "3. Menganalisis distribusi kelas: Memastikan data seimbang untuk meningkatkan akurasi model."
      ]
    },
    {
      "cell_type": "markdown",
      "metadata": {
        "id": "8xizfPlUhnmV"
      },
      "source": [
        "#### Memeriksa nilai kosong"
      ]
    },
    {
      "cell_type": "code",
      "execution_count": null,
      "metadata": {
        "id": "95v1oLaIs_6k",
        "outputId": "4d31b1b8-1b82-4e2c-edbb-7b9745af755f"
      },
      "outputs": [
        {
          "data": {
            "text/plain": [
              "Rating     0\n",
              "Judul     77\n",
              "Ulasan     0\n",
              "dtype: int64"
            ]
          },
          "execution_count": 18,
          "metadata": {},
          "output_type": "execute_result"
        }
      ],
      "source": [
        "# Deteksi nilai kosong pada data\n",
        "df.isnull().sum()"
      ]
    },
    {
      "cell_type": "markdown",
      "metadata": {
        "id": "O8ENG6I0jtNG"
      },
      "source": [
        "Dari hasil di atas, terlihat bahwa jumlah nilai NaN (missing values) dalam dataset adalah sebagai berikut:\n",
        "\n",
        "- Rating: 0 (tidak ada nilai yang hilang)\n",
        "\n",
        "- Judul: 77 (terdapat 77 data yang tidak memiliki judul)\n",
        "\n",
        "- Ulasan: 0 (tidak ada nilai yang hilang)"
      ]
    },
    {
      "cell_type": "markdown",
      "metadata": {
        "id": "WvfU2PszhnmV"
      },
      "source": [
        "#### Handling nilai kosong pada dataset"
      ]
    },
    {
      "cell_type": "code",
      "execution_count": null,
      "metadata": {
        "id": "Z-Y7iBTg1mod"
      },
      "outputs": [],
      "source": [
        "# Hapus nilai kosong dan reset index\n",
        "df = df.dropna().reset_index(drop=True)"
      ]
    },
    {
      "cell_type": "markdown",
      "metadata": {
        "id": "uL_9_lTGw53r"
      },
      "source": [
        "Menghapus baris data yang memiliki nilai kosong didalamnya."
      ]
    },
    {
      "cell_type": "markdown",
      "metadata": {
        "id": "UPMOQVouhnmV"
      },
      "source": [
        "#### Memeriksa kembali nilai kosong"
      ]
    },
    {
      "cell_type": "code",
      "execution_count": null,
      "metadata": {
        "id": "70wK5onpuyxo",
        "outputId": "3bd34d5a-a6bb-4669-c955-aedf08fdf982"
      },
      "outputs": [
        {
          "data": {
            "text/plain": [
              "Rating    0\n",
              "Judul     0\n",
              "Ulasan    0\n",
              "dtype: int64"
            ]
          },
          "execution_count": 20,
          "metadata": {},
          "output_type": "execute_result"
        }
      ],
      "source": [
        "# Periksa kembali nilai kosong setelah penghapusan\n",
        "df.isnull().sum()"
      ]
    },
    {
      "cell_type": "markdown",
      "metadata": {
        "id": "JUZOBjUjw4fN"
      },
      "source": [
        "Setelah dilakukan penghapusan data yang memiliki nilai kosong, dataset sudah tidak memiliki nilai kosong didalamnya."
      ]
    },
    {
      "cell_type": "markdown",
      "metadata": {
        "id": "x-TKAzO7hnmV"
      },
      "source": [
        "#### Memeriksa data duplikat"
      ]
    },
    {
      "cell_type": "code",
      "execution_count": null,
      "metadata": {
        "id": "wP4J5MpFhnmV",
        "outputId": "bd38e37b-2da3-4442-c07b-773d3bde1f38"
      },
      "outputs": [
        {
          "data": {
            "text/plain": [
              "0"
            ]
          },
          "execution_count": 21,
          "metadata": {},
          "output_type": "execute_result"
        }
      ],
      "source": [
        "# Memeriksa data duplikat pada data\n",
        "df.duplicated().sum()"
      ]
    },
    {
      "cell_type": "markdown",
      "metadata": {
        "id": "5j9CJn2p9I1_"
      },
      "source": [
        "Dataset tidak memiliki data yang terduplikasi."
      ]
    },
    {
      "cell_type": "markdown",
      "metadata": {
        "id": "7-DoBkN7hnmW"
      },
      "source": [
        "#### Visualisasi distribusi kelas"
      ]
    },
    {
      "cell_type": "code",
      "execution_count": null,
      "metadata": {
        "id": "GZGXZlLy6DMi",
        "outputId": "196a1e03-b4ac-41ca-cb6b-138e88a69c56"
      },
      "outputs": [
        {
          "data": {
            "image/png": "[encoded data removed]",
            "text/plain": [
              "<Figure size 432x432 with 1 Axes>"
            ]
          },
          "metadata": {},
          "output_type": "display_data"
        }
      ],
      "source": [
        "# Visualisasi berikut digunakan untuk melihat proporsi distribusi rating dalam dataset\n",
        "rating_counts = df['Rating'].value_counts().sort_index()\n",
        "\n",
        "plt.figure(figsize=(6, 6))\n",
        "plt.pie(rating_counts, labels=rating_counts.index, autopct='%1.1f%%', startangle=140)\n",
        "plt.title('Distribusi Kelas 1 (Negatif) dan 2 (Positif)', fontsize=14)\n",
        "plt.axis('equal')\n",
        "plt.legend(title=\"Rating\", loc=\"upper right\")\n",
        "plt.show()"
      ]
    },
    {
      "cell_type": "markdown",
      "metadata": {
        "id": "SGSw66jokBoz"
      },
      "source": [
        "- Visualisasi menunjukkan bahwa kelas negatif (1) dan positif (2) masing-masing memiliki 50% dari total data.\n",
        "\n",
        "- Ini berarti dataset tidak mengalami class imbalance, sehingga model tidak akan condong ke salah satu kelas saat proses pelatihan."
      ]
    },
    {
      "cell_type": "markdown",
      "metadata": {
        "id": "K8mxcSo8hnmW"
      },
      "source": [
        "## Tahap 3: Data Preparation\n",
        "\n",
        "Dalam membangun model klasifikasi sentimen, langkah awal yang sangat penting adalah data preparation. Proses ini bertujuan untuk membersihkan dan menyiapkan teks agar dapat diproses oleh model Machine Learning secara optimal."
      ]
    },
    {
      "cell_type": "markdown",
      "metadata": {
        "id": "ZixUHgfrhnmW"
      },
      "source": [
        "### Pembersihan teks\n",
        "\n",
        "Data yang digunakan berasal dari ulasan pengguna, yang dapat berisi berbagai bentuk teks, termasuk simbol, angka, serta karakter khusus. Oleh karena itu, dilakukan beberapa tahap pembersihan teks:\n",
        "\n",
        "1. Mengubah huruf menjadi kecil: Semua teks dikonversi ke huruf kecil agar tidak ada perbedaan makna antara kata yang sama dengan format huruf berbeda.\n",
        "2. Menghapus karakter selain huruf: Simbol dan angka dihapus agar model hanya fokus pada kata-kata yang memiliki makna.\n",
        "3. Menghapus spasi berlebih: Spasi ganda, di awal, tengah, maupun akhir kalimat dihilangkan untuk menjaga keterbacaan teks.\n",
        "4. Tokenisasi: Teks dipecah menjadi daftar kata-kata individual untuk memudahkan analisis lebih lanjut.\n",
        "5. Penghapusan stopwords: Kata-kata umum yang tidak memiliki makna signifikan dihapus agar model hanya mempertahankan kata-kata yang memiliki nilai informatif.\n",
        "6. Penggabungan kembali teks yang telah dibersihkan: Setelah stopwords dihapus, token-token yang tersisa disatukan kembali menjadi teks yang bersih."
      ]
    },
    {
      "cell_type": "code",
      "execution_count": null,
      "metadata": {
        "id": "T7yzUGgl1u0J"
      },
      "outputs": [],
      "source": [
        "# Cleaning dan normalisasi teks\n",
        "def preprocess_text(text):\n",
        "    text = text.lower()\n",
        "    text = re.sub(r'[^A-Za-zÀ-ú ]+', '', text)\n",
        "    text = re.sub(r'\\s+', ' ', text).strip()\n",
        "    tokens = text.split()\n",
        "    tokens = [word for word in tokens if word not in stop_words]\n",
        "    return ' '.join(tokens)\n",
        "\n",
        "df['Ulasan_Clean'] = df['Ulasan'].apply(preprocess_text)\n",
        "df['Judul_Clean'] = df['Judul'].apply(preprocess_text)"
      ]
    },
    {
      "cell_type": "markdown",
      "metadata": {
        "id": "738fiCos6UNz"
      },
      "source": [
        "### Explorasi label\n",
        "\n",
        "Karakteristik dari masing-masing sentimen dapat dilakukan dengan analisis terhadap kata-kata yang paling sering muncul pada setiap kelas sentimen."
      ]
    },
    {
      "cell_type": "markdown",
      "metadata": {
        "id": "0RJS1YmJhnmW"
      },
      "source": [
        "#### Kata yang paling sering muncul dalam ulasan negatif\n",
        "\n",
        "Penggabungan semua teks dari ulasan negatif dan melakukan visualisasi kata-kata yang paling sering muncul dilakukan untuk mengetahui aspek yang sering dikeluhkan oleh pengguna."
      ]
    },
    {
      "cell_type": "code",
      "execution_count": null,
      "metadata": {
        "id": "B-lPkHVshnmW"
      },
      "outputs": [],
      "source": [
        "# Filter ulasan negatif dan tokenisasi ulasan negatif\n",
        "df_negatif = df[df['Rating'] == 1].copy()\n",
        "df_negatif['Tokens'] = df_negatif['Ulasan_Clean'].apply(lambda x: x.split())"
      ]
    },
    {
      "cell_type": "markdown",
      "metadata": {
        "id": "H8_yKGzMhnmX"
      },
      "source": [
        "Memisahkan ulasan dengan rating 1 (sentimen negatif) kedalam dataframe baru dan melakukan tokenisasi sederhana."
      ]
    },
    {
      "cell_type": "code",
      "execution_count": null,
      "metadata": {
        "id": "hjf9adgLhnmX"
      },
      "outputs": [],
      "source": [
        "# Hitung frekuensi kata dan menyimpan 20 kata yang paling banyak muncul\n",
        "all_tokens_neg = [word for tokens in df_negatif['Tokens'] for word in tokens]\n",
        "word_freq_neg = Counter(all_tokens_neg).most_common(20)\n",
        "words_neg, freqs_neg = zip(*word_freq_neg)"
      ]
    },
    {
      "cell_type": "markdown",
      "metadata": {
        "id": "u-0mcO3qhnmX"
      },
      "source": [
        "Menggabungkan seluruh token dari ulasan negatif dan menghitung frekuensi kemudian menyimpan 20 kata yang paling sering muncul."
      ]
    },
    {
      "cell_type": "code",
      "execution_count": null,
      "metadata": {
        "id": "FJYb18NThnmX",
        "outputId": "bda05e58-cbff-4a77-d1bb-99660f47c720"
      },
      "outputs": [
        {
          "data": {
            "image/png": "[encoded data removed]",
            "text/plain": [
              "<Figure size 864x432 with 1 Axes>"
            ]
          },
          "metadata": {
            "needs_background": "light"
          },
          "output_type": "display_data"
        }
      ],
      "source": [
        "# Visualisasi frekuensi kata negatif\n",
        "plt.figure(figsize=(12,6))\n",
        "sns.barplot(x=list(freqs_neg), y=list(words_neg), palette='Reds_r')\n",
        "plt.title('Top 20 Kata(Negatif)', fontsize=16)\n",
        "plt.xlabel('Frekuensi')\n",
        "plt.ylabel('Kata')\n",
        "plt.show()"
      ]
    },
    {
      "cell_type": "markdown",
      "metadata": {
        "id": "lT-9ru2YhnmX"
      },
      "source": [
        "Bar chart digunakan untuk memvisualisasikan 20 kata yang paling sering muncul dalam ulasan negatif.\n",
        "\n",
        "#### Insight yang didapat dari visualisasi top 20 kata dalam ulasan negatif:\n",
        "- Kata seperti \"one\", \"like\", \"would\", \"get\", dan \"dont\" sering muncul dalam ulasan negatif. Ini menunjukkan bahwa pengguna sering membandingkan pengalaman mereka dengan ekspektasi sebelumnya.\n",
        "- Kata \"dont\", \"time\", \"even\", \"movie\" menunjukkan adanya ketidakpuasan terhadap waktu pengiriman, pengalaman menonton, atau kualitas produk yang tidak sesuai harapan.\n",
        "- Kata \"better\", \"could\", dan \"first\" mengindikasikan bahwa pelanggan mungkin merasa ada pilihan yang lebih baik atau memiliki ekspektasi lebih tinggi terhadap produk tersebut.\n",
        "\n",
        "\n",
        "Berdasarkan hal tersebut maka perusahaan dapat berfokus untuk meningkatkan kualitas produk, layanan pelanggan, dan memperbaiki aspek yang sering disebutkan dalam ulasan negatif untuk meningkatkan kepuasan pelanggan."
      ]
    },
    {
      "cell_type": "markdown",
      "metadata": {
        "id": "V9DQhYZThnmX"
      },
      "source": [
        "#### Visualisasi bigram yang paling sering muncul dalam ulasan negatif\n",
        "\n",
        "Memvisualisasikan 20 pasangan kata (bigram) yang paling sering muncul dalam kelas negatif."
      ]
    },
    {
      "cell_type": "code",
      "execution_count": null,
      "metadata": {
        "id": "pPcl4WL6hnmX"
      },
      "outputs": [],
      "source": [
        "# Buat bigram dan simpan 20 bigram terbanyak\n",
        "bigrams_neg = list(ngrams(all_tokens_neg, 2))\n",
        "bigram_freq_neg = Counter(bigrams_neg).most_common(20)\n",
        "bigram_words_neg = [' '.join(bigram) for bigram, _ in bigram_freq_neg]\n",
        "bigram_counts_neg = [count for _, count in bigram_freq_neg]"
      ]
    },
    {
      "cell_type": "markdown",
      "metadata": {
        "id": "3YVKykIChnmX"
      },
      "source": [
        "Membuat bigram dari token ulasan negatif kemudian menghitung frekuensi kemunculannya lalu menyimpan 20 bigram paling sering muncul."
      ]
    },
    {
      "cell_type": "code",
      "execution_count": null,
      "metadata": {
        "id": "KCPIFXRIhnmX",
        "outputId": "bc0b4e1e-c642-4a7e-86bb-88b82ebb0b88"
      },
      "outputs": [
        {
          "data": {
            "image/png": "[encoded data removed]",
            "text/plain": [
              "<Figure size 720x432 with 1 Axes>"
            ]
          },
          "metadata": {
            "needs_background": "light"
          },
          "output_type": "display_data"
        }
      ],
      "source": [
        "# Visualisasi frekuensi bigram negatif\n",
        "plt.figure(figsize=(10,6))\n",
        "sns.barplot(x=bigram_counts_neg, y=bigram_words_neg, palette='Reds_r')\n",
        "plt.title('Top 20 Bigram (Negatif)', fontsize=16)\n",
        "plt.xlabel('Frekuensi')\n",
        "plt.ylabel('Bigram')\n",
        "plt.show()"
      ]
    },
    {
      "cell_type": "markdown",
      "metadata": {
        "id": "VjaMozYdhnmY"
      },
      "source": [
        "Menampilkan visualisasi bar chart dari 20 bigram paling sering muncul pada\n",
        "ulasan negatif.\n",
        "\n",
        "#### Insight dari visualisasi top 20 bigram dalam ulasan negatif\n",
        "- Frasa seperti \"waste money\" dan \"waste time\" menunjukkan bahwa banyak pengguna merasa produk atau layanan yang mereka gunakan tidak sebanding dengan uang atau waktu yang mereka keluarkan.\n",
        "- Frasa \"dont waste\", \"dont buy\", dan \"much better\" mengindikasikan bahwa pelanggan menyesal telah membeli produk dan merasa ada alternatif produk lain yang lebih baik.\n",
        "- Frasa seperti \"doesnt work\", \"first time\", dan \"customer service\" bisa menunjukkan adanya masalah dalam kualitas produk atau pengalaman pelanggan yang kurang memuaskan.\n",
        "- Frasa seperti \"save money\" dan \"dont think\" mengindikasikan bahwa pengguna memberitahu pengguna lain untuk lebih berhati-hati dalam keputusan pembelian setelah pengalaman negatif yang dialaminya.\n",
        "\n",
        "\n",
        "Dari visualisasi bigram negatif, banyak ulasan negatif terkait dengan pemborosan uang dan waktu, yang menunjukkan ketidakpuasan yang cukup tinggi terhadap produk. Beberapa bigram juga mengarah pada pengalaman buruk dengan layanan pelanggan atau produk yang tidak berfungsi dengan baik. Maka dari itu, brand atau perusahaan dapat lebih berfokus pada peningkatan kualitas produk dan layanan pelanggan untuk mengurangi sentimen negatif di masa mendatang."
      ]
    },
    {
      "cell_type": "markdown",
      "metadata": {
        "id": "hEERi0UIhnmY"
      },
      "source": [
        "#### Kata yang paling sering muncul dalam ulasan positif\n",
        "\n",
        "Proses serupa dilakukan untuk ulasan positif guna memahami aspek yang sering dipuji oleh pengguna."
      ]
    },
    {
      "cell_type": "code",
      "execution_count": null,
      "metadata": {
        "id": "cQo02XWehnmY"
      },
      "outputs": [],
      "source": [
        "# Filter ulasan positif dan tokenisasi ulasan positif\n",
        "df_positif = df[df['Rating'] == 2].copy()\n",
        "df_positif['Tokens'] = df_positif['Ulasan_Clean'].apply(lambda x: x.split())"
      ]
    },
    {
      "cell_type": "markdown",
      "metadata": {
        "id": "Epdcjc7MhnmY"
      },
      "source": [
        "Filter ulasan dengan rating 2 (positif) dan lakukan tokenisasi sederhana."
      ]
    },
    {
      "cell_type": "code",
      "execution_count": null,
      "metadata": {
        "id": "mVJxsqvGhnmY"
      },
      "outputs": [],
      "source": [
        "# Hitung frekuensi kata dan simpan 20 kata paling sering muncul di kelas positif\n",
        "all_tokens_pos = [word for tokens in df_positif['Tokens'] for word in tokens]\n",
        "word_freq_pos = Counter(all_tokens_pos).most_common(20)\n",
        "words_pos, freqs_pos = zip(*word_freq_pos)"
      ]
    },
    {
      "cell_type": "markdown",
      "metadata": {
        "id": "xbdj0_fShnmY"
      },
      "source": [
        "Menggabungkan seluruh token dari ulasan positif dan menghitung frekuensi kata dan menyimpan 20 kata yang paling banyak muncul."
      ]
    },
    {
      "cell_type": "code",
      "execution_count": null,
      "metadata": {
        "id": "ocQj4-YPhnmY",
        "outputId": "3d3fadd2-3068-4834-8c9e-7bb8dceaf521"
      },
      "outputs": [
        {
          "data": {
            "image/png": "[encoded data removed]",
            "text/plain": [
              "<Figure size 864x432 with 1 Axes>"
            ]
          },
          "metadata": {
            "needs_background": "light"
          },
          "output_type": "display_data"
        }
      ],
      "source": [
        "# Visualisasi frekuensi kata positif\n",
        "plt.figure(figsize=(12,6))\n",
        "sns.barplot(x=list(freqs_pos), y=list(words_pos), palette='Blues_r')\n",
        "plt.title('Top 20 Kata Paling Umum (Positif)', fontsize=16)\n",
        "plt.xlabel('Frekuensi')\n",
        "plt.ylabel('Kata')\n",
        "plt.show()"
      ]
    },
    {
      "cell_type": "markdown",
      "metadata": {
        "id": "sjbqnn7dhnmY"
      },
      "source": [
        "Bar chart digunakan untuk memvisualisasikan 20 kata yang paling sering muncul dalam ulasan positif.\n",
        "\n",
        "#### Insight dari visualisasi top 20 kata dalam ulasan positif\n",
        "- Kata seperti \"great\", \"good\", \"best\", dan \"love\" menunjukkan bahwa banyak pengguna merasa puas dengan produk atau layanan yang mereka gunakan.\n",
        "- Kata \"like\", \"would\", dan \"really\" bisa menunjukkan bahwa pengguna tidak hanya puas tetapi juga cenderung merekomendasikan produk kepada orang lain.\n",
        "- Kata \"book\", \"movie\", \"album\", dan \"cd\" mengindikasikan bahwa produk yang sering dibahas dalam ulasan positif kemungkinan besar terkait dengan buku, film, dan musik. Kata \"book\" dan \"movie\" sering muncul dalam kedua kategori maka dari itu kedua kata ini juga termasuk dalam top 20 kata ulasan negatif\n",
        "- Kata \"read\", \"well\", dan \"get\" bisa mencerminkan pengalaman positif pelanggan dalam memahami atau menerima produk yang mereka beli.\n",
        "- Kata \"first\", \"much\", dan \"also\" menunjukkan bahwa pengguna mungkin membandingkan pengalaman pertama mereka dengan ekspektasi atau pengalaman sebelumnya yang baik.\n",
        "\n",
        "Banyak ulasan positif terkait produk dalam kategori buku, film, dan musik. Brand atau perusahaan dapat lebih mempertahankan kualitas dan aspek yang paling diapresiasi oleh pelanggan untuk lebih meningkatkan loyalitas pengguna terhadap produk."
      ]
    },
    {
      "cell_type": "markdown",
      "metadata": {
        "id": "z2IMCZKThnmZ"
      },
      "source": [
        "#### Visualisasi bigram yang paling sering muncul (positif)\n",
        "\n",
        "\n",
        "Menampilkan 20 bigram yang paling sering muncul dalam ulasan positif, untuk memahami frasa yang umum digunakan oleh pengguna saat memberikan ulasan positif."
      ]
    },
    {
      "cell_type": "code",
      "execution_count": null,
      "metadata": {
        "id": "vbJCSSkMhnmZ"
      },
      "outputs": [],
      "source": [
        "# Buat bigram dan simpan 20 bigram terbanyak\n",
        "bigrams_pos = list(ngrams(all_tokens_pos, 2))\n",
        "bigram_freq_pos = Counter(bigrams_pos).most_common(15)\n",
        "bigram_words_pos = [' '.join(bigram) for bigram, _ in bigram_freq_pos]\n",
        "bigram_counts_pos = [count for _, count in bigram_freq_pos]"
      ]
    },
    {
      "cell_type": "markdown",
      "metadata": {
        "id": "rnad49POhnmZ"
      },
      "source": [
        "Visualisasi bar chart bigram paling sering muncul pada kelas positif."
      ]
    },
    {
      "cell_type": "code",
      "execution_count": null,
      "metadata": {
        "id": "H4WtIhTahnmZ",
        "outputId": "08d044b6-9b84-4c9e-9399-fe6aafbf3246"
      },
      "outputs": [
        {
          "data": {
            "image/png": "[encoded data removed]",
            "text/plain": [
              "<Figure size 432x288 with 1 Axes>"
            ]
          },
          "metadata": {
            "needs_background": "light"
          },
          "output_type": "display_data"
        }
      ],
      "source": [
        "# Visualisasi frekuensi bigram pada ulasan positif\n",
        "sns.barplot(x=bigram_counts_pos, y=bigram_words_pos, palette='Blues_r')\n",
        "plt.title('Top 15 Bigram (Positif)', fontsize=16)\n",
        "plt.xlabel('Frekuensi')\n",
        "plt.ylabel('Bigram')\n",
        "plt.show()"
      ]
    },
    {
      "cell_type": "markdown",
      "metadata": {
        "id": "AB-jDMIMhnmZ"
      },
      "source": [
        "#### Kesimpulan\n",
        "Berdasarkan visualisasi top 15 bigram positif, pengguna cenderung merekomendasikan produk atau layanan yang mereka gunakan.\n",
        "\n",
        "- Frasa seperti \"highly recommend\", \"would recommend\", dan \"recommend book\" menunjukkan bahwa pengguna merasa puas dan ingin menyarankan produk kepada orang lain.\n",
        "\n",
        "- Kata \"great book\", \"reading book\", dan \"works great\" juga mengindikasikan kepuasan terhadap buku atau materi bacaan yang mereka konsumsi.\n",
        "\n",
        "- Beberapa frasa seperti \"first time\" dan \"long time\" bisa menunjukkan pengalaman pertama atau jangka panjang yang memuaskan.\n",
        "\n",
        "Berbeda dengan bigram negatif, di mana pengguna lebih banyak mengeluhkan kerugian waktu dan uang, bigram positif lebih banyak menunjukkan kepuasan dan rekomendasi, produk yang berkaitan dengan buku tampaknya mendominasi ulasan positif, sebagaimana terlihat dalam bigram seperti \"read book\", \"recommend book\", dan \"great book\"."
      ]
    },
    {
      "cell_type": "markdown",
      "metadata": {
        "id": "BZilLGjlhnmZ"
      },
      "source": [
        "### Menggabungkan feature teks dan memetakan label sentimen\n",
        "\n",
        "Setelah teks ulasan dan judul dibersihkan, keduanya digabungkan menjadi satu fitur teks utama yang digunakan sebagai variabel input bagi model. Label sentimen yang awalnya berbentuk rating numerik dipetakan ke dalam format biner agar sesuai untuk klasifikasi biner."
      ]
    },
    {
      "cell_type": "code",
      "execution_count": null,
      "metadata": {
        "id": "LbH59nLq6IOu"
      },
      "outputs": [],
      "source": [
        "# Menyiapkan fitur dan target\n",
        "df['Text'] = df['Judul_Clean'] + ' ' + df['Ulasan_Clean']\n",
        "X = df['Text']\n",
        "df['Rating'] = df['Rating'].map({1: 0, 2: 1})\n",
        "y = df['Rating'].values"
      ]
    },
    {
      "cell_type": "markdown",
      "metadata": {
        "id": "VFW2eTInhnmZ"
      },
      "source": [
        "Dengan ini, data telah siap untuk digunakan dalam model klasifikasi sentimen berbasis deep learning."
      ]
    },
    {
      "cell_type": "markdown",
      "metadata": {
        "id": "oTZtSvhYhnma"
      },
      "source": [
        "### Tokenisasi teks menggunakan Tokenizer dari Keras\n",
        "\n",
        "Agar dapat diproses oleh model berbasis deep learning, teks perlu dikonversi menjadi representasi numerik menggunakan Tokenizer dari Keras dengan parameter:\n",
        "- Menampung hingga 20.000 kata yang paling sering muncul dalam dataset.\n",
        "- Menggunakan token khusus untuk kata-kata yang tidak dikenal (Out of Vocabulary)."
      ]
    },
    {
      "cell_type": "code",
      "execution_count": null,
      "metadata": {
        "id": "t1OL9YQBHFax"
      },
      "outputs": [],
      "source": [
        "# Tokenisasi data\n",
        "tokenizer = Tokenizer(num_words=20000, oov_token='<OOV>')\n",
        "tokenizer.fit_on_texts(X)"
      ]
    },
    {
      "cell_type": "markdown",
      "metadata": {
        "id": "nmSX1gBMhnma"
      },
      "source": [
        "Setelah proses tokenisasi, teks dikonversi menjadi sekuens angka berdasarkan indeks kata dalam kamus tokenizer."
      ]
    },
    {
      "cell_type": "markdown",
      "metadata": {
        "id": "jTFQDYTQhnma"
      },
      "source": [
        "### Konversi teks ke urutan angka dan padding\n",
        "\n",
        "Karena panjang teks ulasan bervariasi, dilakukan proses padding untuk menyamakan panjang semua sekuens agar dapat diproses oleh model. Sehingga variabel X dikonversi menjadi urutan angka (sequence) berdasarkan indeks kata dalam kamus tokenizer."
      ]
    },
    {
      "cell_type": "code",
      "execution_count": null,
      "metadata": {
        "id": "I88K-Ys7HHT_"
      },
      "outputs": [],
      "source": [
        "# Konversi teks ke urutan angka\n",
        "sequences = tokenizer.texts_to_sequences(X)\n",
        "padded_sequences = pad_sequences(sequences, maxlen=200, padding='post', truncating='post')"
      ]
    },
    {
      "cell_type": "code",
      "execution_count": null,
      "metadata": {
        "id": "CZL-LrLghnma",
        "outputId": "5512b958-a384-415e-f6e5-acdbae2a26ec"
      },
      "outputs": [
        {
          "data": {
            "text/plain": [
              "array([[   1,   16,    1, ...,    0,    0,    0],\n",
              "       [  21,  878,   51, ...,    0,    0,    0],\n",
              "       [ 241,  878,  192, ...,    0,    0,    0],\n",
              "       ...,\n",
              "       [1976,   94,  460, ...,    0,    0,    0],\n",
              "       [ 688,  131,    2, ...,    0,    0,    0],\n",
              "       [ 108, 1316,  437, ...,    0,    0,    0]], dtype=int32)"
            ]
          },
          "execution_count": 39,
          "metadata": {},
          "output_type": "execute_result"
        }
      ],
      "source": [
        "# Lihat hasil konversi\n",
        "padded_sequences"
      ]
    },
    {
      "cell_type": "markdown",
      "metadata": {
        "id": "ltobXZ6Mhnma"
      },
      "source": [
        "### Pembagian dataset dengan perbandingan 80:20\n",
        "\n",
        "Setelah proses data preprocessing selesai, langkah selanjutnya adalah membagi dataset menjadi dua bagian yaitu training set dan testing set. Pembagian ini bertujuan untuk memastikan bahwa model dapat belajar dari sebagian besar data dan kemudian diuji dengan data yang belum pernah dilihat sebelumnya untuk mengevaluasi performanya."
      ]
    },
    {
      "cell_type": "code",
      "execution_count": null,
      "metadata": {
        "id": "dixSZrF07J1_"
      },
      "outputs": [],
      "source": [
        "# Split dataset dengan perbandingan 80:20\n",
        "X_train, X_test, y_train, y_test = train_test_split(padded_sequences, y, test_size=0.2, random_state=42, stratify=y)"
      ]
    },
    {
      "cell_type": "markdown",
      "metadata": {
        "id": "Gx0SEue2hnmb"
      },
      "source": [
        "Dataset dibagi dimana sebanyak 20% data digunakan untuk test dan sisanya 80% untuk train model, dan parameter stratify=y digunakan untuk memastikan bahwa proporsi kelas (positif dan negatif) tetap seimbang di kedua subset, sehingga hasil pelatihan lebih akurat dan adil. Dengan ini, data telah siap digunakan untuk model klasifikasi sentimen berbasis deep learning."
      ]
    },
    {
      "cell_type": "markdown",
      "metadata": {
        "id": "zwATBhW_hnmc"
      },
      "source": [
        "## Tahap 4: Modeling\n",
        "\n",
        "Tahap modeling bertujuan untuk membangun model prediktif menggunakan data yang telah dipersiapkan guna menghasilkan model yang sesuai dengan tujuan analisis."
      ]
    },
    {
      "cell_type": "markdown",
      "metadata": {
        "id": "XHyXwWY5hnmc"
      },
      "source": [
        "###  Arsitektur model\n",
        "\n",
        "Model yang dibuat bertujuan untuk mengklasifikasikan teks ulasan pengguna ke dalam dua kategori sentimen: positif dan negatif. Model ini menggunakan pendekatan Long Short-Term Memory (LSTM) dengan arsitektur bidirectional (dua arah) agar dapat menangkap konteks dari teks secara lebih baik."
      ]
    },
    {
      "cell_type": "markdown",
      "metadata": {
        "id": "jNy97VQ2hnmc"
      },
      "source": [
        "### Rincian arsitektur model:\n",
        "\n",
        "- Embedding layer: Mengubah setiap kata menjadi representasi vektor, dengan maksimal 20.000 kata yang digunakan.\n",
        "- Bidirectional LSTM (64 units, return_sequences=True): Memproses urutan teks dari dua arah (maju dan mundur) untuk menangkap konteks yang lebih kaya dari ulasan pengguna.\n",
        "- Dropout (0.5) dan BatchNormalization: Digunakan untuk mencegah overfitting.\n",
        "- Bidirectional LSTM (32 units): Layer LSTM kedua ini berfungsi untuk menyaring informasi penting dari hasil LSTM sebelumnya.\n",
        "- Dropout (0.4) dan BatchNormalization: Dropout digunakan untuk mengurangi risiko overfitting dengan mengabaikan sebagian neuron secara acak pada saat pelatihan, sedangkan BatchNormalization membantu menstabilkan dan mempercepat proses pelatihan model.\n",
        "- Dense layer (64 units, ReLU): Layer ini merupakan lapisan penghubung yang menerima hasil dari layer LSTM dan memprosesnya lebih lanjut untuk menyaring fitur-fitur penting sebelum prediksi akhir\n",
        "- Dropout (0.3): Tambahan pengaman terakhir untuk mencegah overfitting\n",
        "- Output layer (Dense, 1 unit, Sigmoid): Lapisan terakhir ini menghasilkan angka antara 0 hingga 1 sebagai hasil dari prediksi, angka tersebut digunakan untuk menentukan apakah ulasan bersentimen negatif (0) atau positif (1). Dan fungsi aktivasi sigmoid digunakan untuk klasifikasi dua kelas."
      ]
    },
    {
      "cell_type": "code",
      "execution_count": null,
      "metadata": {
        "id": "tIXM9IVeG-Ro"
      },
      "outputs": [],
      "source": [
        "# Membangun model klasifikasi\n",
        "model = Sequential([\n",
        "    Embedding(input_dim=20000, output_dim=128),\n",
        "    Bidirectional(LSTM(64, return_sequences=True)),\n",
        "    Dropout(0.5),\n",
        "    BatchNormalization(),\n",
        "    Bidirectional(LSTM(32)),\n",
        "    Dropout(0.4),\n",
        "    BatchNormalization(),\n",
        "    Dense(64, activation='relu'),\n",
        "    Dropout(0.3),\n",
        "    Dense(1, activation='sigmoid')\n",
        "])"
      ]
    },
    {
      "cell_type": "markdown",
      "metadata": {
        "id": "t7_TOZ6Bhnmc"
      },
      "source": [
        "### Kompilasi model\n",
        "\n",
        "Model dikompilasi menggunakan fungsi loss binary crossentropy, optimizer Adam, dan metrik evaluasi akurasi, yang sesuai untuk tugas klasifikasi biner."
      ]
    },
    {
      "cell_type": "code",
      "execution_count": null,
      "metadata": {
        "id": "CFJ4H3VpGvrS"
      },
      "outputs": [],
      "source": [
        "# Mengkompilasi model\n",
        "model.compile(loss='binary_crossentropy',\n",
        "              optimizer='adam',\n",
        "              metrics=['accuracy'])"
      ]
    },
    {
      "cell_type": "markdown",
      "metadata": {
        "id": "KQil2tY1hnmc"
      },
      "source": [
        "### Ringkasan struktur model\n",
        "\n",
        "Menampilkan detail struktur model, termasuk jumlah layer, bentuk output setiap layer, serta total parameter yang dapat dilatih."
      ]
    },
    {
      "cell_type": "code",
      "execution_count": null,
      "metadata": {
        "colab": {
          "base_uri": "https://localhost:8080/",
          "height": 334
        },
        "id": "uxAZSZzbIcY3",
        "outputId": "a1434842-adcb-4be9-eb92-8ea0f0b53ac0"
      },
      "outputs": [
        {
          "name": "stdout",
          "output_type": "stream",
          "text": [
            "Model: \"sequential\"\n",
            "_________________________________________________________________\n",
            "Layer (type)                 Output Shape              Param #   \n",
            "=================================================================\n",
            "embedding (Embedding)        (None, None, 128)         2560000   \n",
            "_________________________________________________________________\n",
            "bidirectional (Bidirectional (None, None, 128)         98816     \n",
            "_________________________________________________________________\n",
            "dropout (Dropout)            (None, None, 128)         0         \n",
            "_________________________________________________________________\n",
            "batch_normalization (BatchNo (None, None, 128)         512       \n",
            "_________________________________________________________________\n",
            "bidirectional_1 (Bidirection (None, 64)                41216     \n",
            "_________________________________________________________________\n",
            "dropout_1 (Dropout)          (None, 64)                0         \n",
            "_________________________________________________________________\n",
            "batch_normalization_1 (Batch (None, 64)                256       \n",
            "_________________________________________________________________\n",
            "dense (Dense)                (None, 64)                4160      \n",
            "_________________________________________________________________\n",
            "dropout_2 (Dropout)          (None, 64)                0         \n",
            "_________________________________________________________________\n",
            "dense_1 (Dense)              (None, 1)                 65        \n",
            "=================================================================\n",
            "Total params: 2,705,025\n",
            "Trainable params: 2,704,641\n",
            "Non-trainable params: 384\n",
            "_________________________________________________________________\n"
          ]
        }
      ],
      "source": [
        "# Lihat struktur model\n",
        "model.summary()"
      ]
    },
    {
      "cell_type": "markdown",
      "metadata": {
        "id": "AAzHYMlEhnmd"
      },
      "source": [
        "Model ini terdiri dari 10 lapisan, dengan total 2,7 juta parameter, yang dirancang untuk tugas klasifikasi sentimen menggunakan kombinasi dari Embedding Layer, Bidirectional LSTM, dan Dense Layer"
      ]
    },
    {
      "cell_type": "markdown",
      "metadata": {
        "id": "oPKhpxgthnmd"
      },
      "source": [
        "### Mendefinisikan callback checkpoint\n",
        "\n",
        "Penyimpanan model dengan val_loss terkecil ke file 'best_model.h5' selama proses pelatihan."
      ]
    },
    {
      "cell_type": "code",
      "execution_count": null,
      "metadata": {
        "id": "m6s9TwZtmQmp"
      },
      "outputs": [],
      "source": [
        "# Callback checkpoint\n",
        "checkpoint = ModelCheckpoint(\n",
        "    filepath='best_model.h5',\n",
        "    save_best_only=True,\n",
        "    monitor='val_loss',\n",
        "    mode='min',\n",
        "    verbose=1\n",
        ")"
      ]
    },
    {
      "cell_type": "markdown",
      "metadata": {
        "id": "_893SM76hnmd"
      },
      "source": [
        "### Melatih model\n",
        "\n",
        "Model dilatih menggunakan data latih selama 3 epoch dengan batch size 1024, serta menggunakan data validasi untuk mengevaluasi performa model. Callback digunakan untuk menyimpan model terbaik berdasarkan nilai val_loss terkecil."
      ]
    },
    {
      "cell_type": "code",
      "execution_count": null,
      "metadata": {
        "colab": {
          "base_uri": "https://localhost:8080/",
          "height": 487
        },
        "id": "kDnB5vxqIdcI",
        "outputId": "4fb9d25b-9b02-43aa-9aaa-f5bfa7333e7e"
      },
      "outputs": [
        {
          "name": "stdout",
          "output_type": "stream",
          "text": [
            "Epoch 1/3\n",
            "2813/2813 [==============================] - 4973s 2s/step - loss: 0.2325 - accuracy: 0.9064 - val_loss: 0.1980 - val_accuracy: 0.9215\n",
            "\n",
            "Epoch 00001: val_loss improved from inf to 0.19797, saving model to best_model.h5\n",
            "Epoch 2/3\n",
            "2813/2813 [==============================] - 4740s 2s/step - loss: 0.1891 - accuracy: 0.9262 - val_loss: 0.1915 - val_accuracy: 0.9261\n",
            "\n",
            "Epoch 00002: val_loss improved from 0.19797 to 0.19148, saving model to best_model.h5\n",
            "Epoch 3/3\n",
            "2813/2813 [==============================] - 4752s 2s/step - loss: 0.1690 - accuracy: 0.9351 - val_loss: 0.1813 - val_accuracy: 0.9293\n",
            "\n",
            "Epoch 00003: val_loss improved from 0.19148 to 0.18128, saving model to best_model.h5\n"
          ]
        }
      ],
      "source": [
        "# Melatih model\n",
        "history = model.fit(\n",
        "    X_train, y_train,\n",
        "    epochs=3,\n",
        "    batch_size=1024,\n",
        "    validation_data=(X_test, y_test),\n",
        "    callbacks=[checkpoint]\n",
        ")"
      ]
    },
    {
      "cell_type": "markdown",
      "metadata": {
        "id": "EgYtTv6Ihnmd"
      },
      "source": [
        "## Tahap 5: Evaluation\n",
        "\n",
        "Setelah proses pelatihan model selesai, langkah selanjutnya adalah menilai kinerja model untuk memastikan bahwa hasil yang diperoleh memenuhi kebutuhan analisis."
      ]
    },
    {
      "cell_type": "markdown",
      "metadata": {
        "id": "XIvPo4Kxhnmd"
      },
      "source": [
        "### Visualisasi akurasi model\n",
        "\n",
        "Visualisasi ini digunakan untuk melihat perubahan nilai akurasi pelatihan (training accuracy) dan akurasi validasi (validation accuracy) pada setiap epoch."
      ]
    },
    {
      "cell_type": "code",
      "execution_count": null,
      "metadata": {
        "id": "POawtEX_IfYu",
        "outputId": "527430ea-f1e4-4cfa-a0fd-747bba4c14d8"
      },
      "outputs": [
        {
          "data": {
            "image/png": "[encoded data removed]",
            "text/plain": [
              "<Figure size 864x360 with 1 Axes>"
            ]
          },
          "metadata": {
            "needs_background": "light"
          },
          "output_type": "display_data"
        }
      ],
      "source": [
        "# Visualisasi akurasi model per-epoch\n",
        "plt.figure(figsize=(12, 5))\n",
        "plt.subplot(1, 2, 2)\n",
        "plt.plot(history.history['accuracy'], label='Train Accuracy')\n",
        "plt.plot(history.history['val_accuracy'], label='Val Accuracy')\n",
        "plt.title('Accuracy per epoch')\n",
        "plt.xlabel('Epoch')\n",
        "plt.ylabel('Accuracy')\n",
        "plt.legend()\n",
        "plt.grid(True)\n",
        "plt.show()"
      ]
    },
    {
      "cell_type": "markdown",
      "metadata": {
        "id": "OsDf83QAhnmd"
      },
      "source": [
        "- Akurasi pelatihan mencapai 93,46% dan akurasi validasi 92,88%, menandakan model mampu mengenali pola sentimen dengan baik.\n",
        "- Perbedaan antara train accuracy dan val accuracy relatif kecil, yang mengindikasikan model tidak mengalami overfitting dan dapat bekerja dengan baik pada data baru.\n",
        "- Akurasi validasi yang tetap tinggi menunjukkan bahwa model dapat diterapkan pada data lain dengan performa yang cukup baik."
      ]
    },
    {
      "cell_type": "markdown",
      "metadata": {
        "id": "9uRLKRlkhnmd"
      },
      "source": [
        "### Visualisasi loss model\n",
        "\n",
        "Visualisasi ini menunjukkan perubahan nilai loss pada data pelatihan dan validasi untuk setiap epoch."
      ]
    },
    {
      "cell_type": "code",
      "execution_count": null,
      "metadata": {
        "id": "KiUF1D-Phnme",
        "outputId": "ec742831-570f-4766-b200-638c2db6c1c7"
      },
      "outputs": [
        {
          "data": {
            "image/png": "[encoded data removed]",
            "text/plain": [
              "<Figure size 864x360 with 1 Axes>"
            ]
          },
          "metadata": {
            "needs_background": "light"
          },
          "output_type": "display_data"
        }
      ],
      "source": [
        "# Visualisasi loss model per-epoch\n",
        "plt.figure(figsize=(12, 5))\n",
        "plt.subplot(1, 2, 2)\n",
        "plt.plot(history.history['loss'], label='Train Loss')\n",
        "plt.plot(history.history['val_loss'], label='Val Loss')\n",
        "plt.title('Loss per Epoch')\n",
        "plt.xlabel('Epoch')\n",
        "plt.ylabel('Loss')\n",
        "plt.legend()\n",
        "plt.grid(True)\n",
        "plt.show()"
      ]
    },
    {
      "cell_type": "markdown",
      "metadata": {
        "id": "TQDgDEiqhnme"
      },
      "source": [
        "\n",
        "\n",
        "*   Nilai train loss dan validation loss menurun pada setiap epoch, menandakan model semakin baik dalam belajar dari data latihannya.\n",
        "*   Penurunan loss menunjukkan bahwa model dapat memahami pola dalam data dan mengurangi kesalahan dalam prediksi.\n",
        "*   Validation loss juga mengalami penurunan, yang menandakan model tidak hanya menghafal data latihannya, tetapi juga bekerja dengan baik pada data validasi\n",
        "\n",
        "\n",
        "\n"
      ]
    },
    {
      "cell_type": "markdown",
      "metadata": {
        "id": "kfjnsZK6hnme"
      },
      "source": [
        "### Potensi penerapan solusi di lembaga mitra\n",
        "Analisis sentimen ulasan produk Amazon memiliki beberapa potensi penerapan solusi di lembaga mitra, khususnya dalam bidang e-commerce, pemasaran digital, dan analisis data. Berikut adalah beberapa lembaga yang dapat memanfaatkan hasil dari proyek ini:\n",
        "\n",
        "1. Platform E-Commerce\n",
        "- Deteksi otomatis ulasan negatif untuk merespons keluhan pelanggan dengan cepat.  \n",
        "- Meningkatkan rekomendasi produk berdasarkan sentimen pelanggan.  \n",
        "- Menganalisis tren opini pelanggan untuk meningkatkan pengalaman pengguna untuk berbelanja.  \n",
        "\n",
        "2. Pemasaran Digital\n",
        "- Membandingkan sentimen produk sendiri vs kompetitor.  \n",
        "- Mengoptimalkan kampanye marketing dengan memahami opini pelanggan.  \n",
        "- Mengidentifikasi kata kunci populer dalam ulasan untuk strategi SEO atau kampanye marketing yang tepat.  \n",
        "\n",
        "Analisis sentimen ulasan produk Amazon memiliki potensi penerapan yang luas di berbagai sektor, terutama dalam bidang e-commerce, dan pemasaran digital.\n",
        "\n",
        "Dengan solusi ini, lembaga mitra dapat:  \n",
        "- Meningkatkan efisiensi analisis opini pelanggan.  \n",
        "- Memperbaiki layanan dan produk berdasarkan feedback.  \n",
        "- Mengoptimalkan strategi pemasaran untuk hasil yang lebih baik.  \n",
        "\n",
        "Solusi ini dapat membuka peluang besar bagi perusahaan untuk lebih memahami pelanggan dan meningkatkan daya saing di pasar."
      ]
    },
    {
      "cell_type": "markdown",
      "metadata": {
        "id": "lIVwCqGrhnme"
      },
      "source": [
        "## Tahap 6: Deployment\n",
        "Tahap deployment adalah tahap akhir di mana model yang telah dikembangkan dan dievaluasi diimplementasikan dalam lingkungan produksi agar dapat digunakan oleh pengguna akhir."
      ]
    },
    {
      "cell_type": "markdown",
      "metadata": {
        "id": "NhXnS09chnme"
      },
      "source": [
        "Sebelum membangun dashboard, terdapat beberapa hal yang perlu dipersiapkan:\n",
        " 1. Dataset: Dataset ulasan produk Amazon dalam format csv.\n",
        " 2. Environtment: Menggunakan Python 3.12 Streamlit untuk membuat dashboard.\n",
        " 3. Library yang digunakan, antara lain:\n",
        "- Pandas\n",
        "- Numpy\n",
        "- TensorFlow\n",
        "- Matplotlib\n",
        "- Streamlit\n",
        "\n",
        "### Menjalankan dashboard online\n",
        "berikut link akses dashboard:\n",
        "> https://amazon-reviews-fesmaro.streamlit.app/\n",
        "\n",
        "### Menjalankan dashboard secara lokal\n",
        "\n",
        "Jika ingin menjalankan di komputer sendiri (misalnya untuk pengembangan atau modifikasi), ikuti langkah berikut:  \n",
        "\n",
        "1. Install Python dan library yang dibutuhkan, pastikan Python 3.12 sudah terinstall. Kemudian, install library yang diperlukan:  \n",
        "```\n",
        "pip install pandas numpy tensorflow matplotlib streamlit\n",
        "```\n",
        "2. Clone repository dari GitHub\n",
        "Unduh atau clone repository dari GitHub dan masuk ke directory yang diunduh:\n",
        "```\n",
        "git clone https://github.com/Fqih/Analisis-Big-Data-Fesmaro.git\n",
        "cd Analisis-Big-Data-Fesmaro\n",
        "```\n",
        "3. Masuk ke directory dashboard\n",
        "```\n",
        "cd Dashboard\n",
        "```\n",
        "3. Jalankan dashboard\n",
        "```\n",
        "Streamlit run main.py\n",
        "```"
      ]
    },
    {
      "cell_type": "markdown",
      "metadata": {
        "id": "GuCWdeuphnme"
      },
      "source": [
        "### Acknowledgement\n",
        "\n",
        "Seluruh tahapan analisis sentimen ini dilakukan menggunakan mesin Hyper Computation milik Universitas Gunadarma. Akses terhadap mesin ini dilakukan pada 17-22 Maret 2025."
      ]
    }
  ],
  "metadata": {
    "accelerator": "TPU",
    "colab": {
      "gpuType": "V28",
      "provenance": []
    },
    "kernelspec": {
      "display_name": "Python 3",
      "language": "python",
      "name": "python3"
    },
    "language_info": {
      "codemirror_mode": {
        "name": "ipython",
        "version": 3
      },
      "file_extension": ".py",
      "mimetype": "text/x-python",
      "name": "python",
      "nbconvert_exporter": "python",
      "pygments_lexer": "ipython3",
      "version": "3.6.9"
    }
  },
  "nbformat": 4,
  "nbformat_minor": 0
}
